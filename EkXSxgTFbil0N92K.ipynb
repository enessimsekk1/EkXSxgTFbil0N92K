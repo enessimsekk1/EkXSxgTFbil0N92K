{
  "nbformat": 4,
  "nbformat_minor": 0,
  "metadata": {
    "colab": {
      "name": "Happy_Customers.ipynb",
      "provenance": [],
      "collapsed_sections": []
    },
    "kernelspec": {
      "name": "python3",
      "display_name": "Python 3"
    },
    "language_info": {
      "name": "python"
    }
  },
  "cells": [
    {
      "cell_type": "code",
      "metadata": {
        "colab": {
          "base_uri": "https://localhost:8080/"
        },
        "id": "TcB5ypFmesHs",
        "outputId": "caf9c2e6-a863-4ac7-e9cd-ad43ece2f413"
      },
      "source": [
        "!pip3 install catboost"
      ],
      "execution_count": null,
      "outputs": [
        {
          "output_type": "stream",
          "name": "stdout",
          "text": [
            "Requirement already satisfied: catboost in /usr/local/lib/python3.7/dist-packages (1.0.0)\n",
            "Requirement already satisfied: graphviz in /usr/local/lib/python3.7/dist-packages (from catboost) (0.10.1)\n",
            "Requirement already satisfied: six in /usr/local/lib/python3.7/dist-packages (from catboost) (1.15.0)\n",
            "Requirement already satisfied: scipy in /usr/local/lib/python3.7/dist-packages (from catboost) (1.4.1)\n",
            "Requirement already satisfied: numpy>=1.16.0 in /usr/local/lib/python3.7/dist-packages (from catboost) (1.19.5)\n",
            "Requirement already satisfied: matplotlib in /usr/local/lib/python3.7/dist-packages (from catboost) (3.2.2)\n",
            "Requirement already satisfied: plotly in /usr/local/lib/python3.7/dist-packages (from catboost) (4.4.1)\n",
            "Requirement already satisfied: pandas>=0.24.0 in /usr/local/lib/python3.7/dist-packages (from catboost) (1.1.5)\n",
            "Requirement already satisfied: python-dateutil>=2.7.3 in /usr/local/lib/python3.7/dist-packages (from pandas>=0.24.0->catboost) (2.8.2)\n",
            "Requirement already satisfied: pytz>=2017.2 in /usr/local/lib/python3.7/dist-packages (from pandas>=0.24.0->catboost) (2018.9)\n",
            "Requirement already satisfied: cycler>=0.10 in /usr/local/lib/python3.7/dist-packages (from matplotlib->catboost) (0.10.0)\n",
            "Requirement already satisfied: kiwisolver>=1.0.1 in /usr/local/lib/python3.7/dist-packages (from matplotlib->catboost) (1.3.2)\n",
            "Requirement already satisfied: pyparsing!=2.0.4,!=2.1.2,!=2.1.6,>=2.0.1 in /usr/local/lib/python3.7/dist-packages (from matplotlib->catboost) (2.4.7)\n",
            "Requirement already satisfied: retrying>=1.3.3 in /usr/local/lib/python3.7/dist-packages (from plotly->catboost) (1.3.3)\n"
          ]
        }
      ]
    },
    {
      "cell_type": "code",
      "metadata": {
        "id": "6qYgmTfQ1rzZ"
      },
      "source": [
        "import numpy as np\n",
        "import pandas as pd \n",
        "import statsmodels.api as sm\n",
        "import statsmodels.formula.api as smf\n",
        "import seaborn as sns\n",
        "from sklearn.preprocessing import scale \n",
        "from sklearn.model_selection import train_test_split, GridSearchCV, cross_val_score\n",
        "from sklearn.metrics import confusion_matrix, accuracy_score, classification_report\n",
        "from sklearn.metrics import roc_auc_score,roc_curve\n",
        "import statsmodels.formula.api as smf\n",
        "import matplotlib.pyplot as plt\n",
        "from sklearn.neighbors import KNeighborsClassifier\n",
        "from sklearn.discriminant_analysis import LinearDiscriminantAnalysis\n",
        "from sklearn.linear_model import LogisticRegression\n",
        "from sklearn.svm import SVC\n",
        "from sklearn.naive_bayes import GaussianNB\n",
        "from sklearn import tree\n",
        "from sklearn.ensemble import RandomForestClassifier\n",
        "from sklearn.ensemble import GradientBoostingClassifier\n",
        "from xgboost import XGBClassifier\n",
        "from lightgbm import LGBMClassifier\n",
        "from catboost import CatBoostClassifier\n",
        "\n",
        "from warnings import filterwarnings\n",
        "filterwarnings('ignore')"
      ],
      "execution_count": null,
      "outputs": []
    },
    {
      "cell_type": "markdown",
      "metadata": {
        "id": "hLx_ie5D3ryD"
      },
      "source": [
        "Y = target attribute (Y) with values indicating 0 (unhappy) and 1 (happy) customers\n",
        "\n",
        "X1 = my order was delivered on time\n",
        "\n",
        "X2 = contents of my order was as I expected\n",
        "\n",
        "X3 = I ordered everything I wanted to order\n",
        "\n",
        "X4 = I paid a good price for my order\n",
        "\n",
        "X5 = I am satisfied with my courier\n",
        "\n",
        "X6 = the app makes ordering easy for me\n",
        "\n",
        "\n",
        "Attributes X1 to X6 indicate the responses for each question and have values from 1 to 5 where the smaller number indicates less and the higher number indicates more towards the answer.\n",
        "\n",
        "\n"
      ]
    },
    {
      "cell_type": "markdown",
      "metadata": {
        "id": "Da3d0HlKKSUd"
      },
      "source": [
        "# **Logistic Regression**"
      ]
    },
    {
      "cell_type": "markdown",
      "metadata": {
        "id": "_JYxe9l5KYUn"
      },
      "source": [
        "**Model**"
      ]
    },
    {
      "cell_type": "code",
      "metadata": {
        "id": "T3Uxk2ec3f_y"
      },
      "source": [
        "df = pd.read_csv('/content/ACME-HappinessSurvey2020.csv')"
      ],
      "execution_count": null,
      "outputs": []
    },
    {
      "cell_type": "code",
      "metadata": {
        "colab": {
          "base_uri": "https://localhost:8080/",
          "height": 514
        },
        "id": "KzQJ4O2bfd0L",
        "outputId": "0ed216ba-ad97-46a0-cfe5-52fd4fd3701a"
      },
      "source": [
        "df.head(15)"
      ],
      "execution_count": null,
      "outputs": [
        {
          "output_type": "execute_result",
          "data": {
            "text/html": [
              "<div>\n",
              "<style scoped>\n",
              "    .dataframe tbody tr th:only-of-type {\n",
              "        vertical-align: middle;\n",
              "    }\n",
              "\n",
              "    .dataframe tbody tr th {\n",
              "        vertical-align: top;\n",
              "    }\n",
              "\n",
              "    .dataframe thead th {\n",
              "        text-align: right;\n",
              "    }\n",
              "</style>\n",
              "<table border=\"1\" class=\"dataframe\">\n",
              "  <thead>\n",
              "    <tr style=\"text-align: right;\">\n",
              "      <th></th>\n",
              "      <th>Y</th>\n",
              "      <th>X1</th>\n",
              "      <th>X2</th>\n",
              "      <th>X3</th>\n",
              "      <th>X4</th>\n",
              "      <th>X5</th>\n",
              "      <th>X6</th>\n",
              "    </tr>\n",
              "  </thead>\n",
              "  <tbody>\n",
              "    <tr>\n",
              "      <th>0</th>\n",
              "      <td>0</td>\n",
              "      <td>3</td>\n",
              "      <td>3</td>\n",
              "      <td>3</td>\n",
              "      <td>4</td>\n",
              "      <td>2</td>\n",
              "      <td>4</td>\n",
              "    </tr>\n",
              "    <tr>\n",
              "      <th>1</th>\n",
              "      <td>0</td>\n",
              "      <td>3</td>\n",
              "      <td>2</td>\n",
              "      <td>3</td>\n",
              "      <td>5</td>\n",
              "      <td>4</td>\n",
              "      <td>3</td>\n",
              "    </tr>\n",
              "    <tr>\n",
              "      <th>2</th>\n",
              "      <td>1</td>\n",
              "      <td>5</td>\n",
              "      <td>3</td>\n",
              "      <td>3</td>\n",
              "      <td>3</td>\n",
              "      <td>3</td>\n",
              "      <td>5</td>\n",
              "    </tr>\n",
              "    <tr>\n",
              "      <th>3</th>\n",
              "      <td>0</td>\n",
              "      <td>5</td>\n",
              "      <td>4</td>\n",
              "      <td>3</td>\n",
              "      <td>3</td>\n",
              "      <td>3</td>\n",
              "      <td>5</td>\n",
              "    </tr>\n",
              "    <tr>\n",
              "      <th>4</th>\n",
              "      <td>0</td>\n",
              "      <td>5</td>\n",
              "      <td>4</td>\n",
              "      <td>3</td>\n",
              "      <td>3</td>\n",
              "      <td>3</td>\n",
              "      <td>5</td>\n",
              "    </tr>\n",
              "    <tr>\n",
              "      <th>5</th>\n",
              "      <td>1</td>\n",
              "      <td>5</td>\n",
              "      <td>5</td>\n",
              "      <td>3</td>\n",
              "      <td>5</td>\n",
              "      <td>5</td>\n",
              "      <td>5</td>\n",
              "    </tr>\n",
              "    <tr>\n",
              "      <th>6</th>\n",
              "      <td>0</td>\n",
              "      <td>3</td>\n",
              "      <td>1</td>\n",
              "      <td>2</td>\n",
              "      <td>2</td>\n",
              "      <td>1</td>\n",
              "      <td>3</td>\n",
              "    </tr>\n",
              "    <tr>\n",
              "      <th>7</th>\n",
              "      <td>1</td>\n",
              "      <td>5</td>\n",
              "      <td>4</td>\n",
              "      <td>4</td>\n",
              "      <td>4</td>\n",
              "      <td>4</td>\n",
              "      <td>5</td>\n",
              "    </tr>\n",
              "    <tr>\n",
              "      <th>8</th>\n",
              "      <td>0</td>\n",
              "      <td>4</td>\n",
              "      <td>1</td>\n",
              "      <td>4</td>\n",
              "      <td>4</td>\n",
              "      <td>4</td>\n",
              "      <td>4</td>\n",
              "    </tr>\n",
              "    <tr>\n",
              "      <th>9</th>\n",
              "      <td>0</td>\n",
              "      <td>4</td>\n",
              "      <td>4</td>\n",
              "      <td>4</td>\n",
              "      <td>2</td>\n",
              "      <td>5</td>\n",
              "      <td>5</td>\n",
              "    </tr>\n",
              "    <tr>\n",
              "      <th>10</th>\n",
              "      <td>0</td>\n",
              "      <td>3</td>\n",
              "      <td>2</td>\n",
              "      <td>3</td>\n",
              "      <td>3</td>\n",
              "      <td>2</td>\n",
              "      <td>3</td>\n",
              "    </tr>\n",
              "    <tr>\n",
              "      <th>11</th>\n",
              "      <td>0</td>\n",
              "      <td>4</td>\n",
              "      <td>4</td>\n",
              "      <td>3</td>\n",
              "      <td>4</td>\n",
              "      <td>4</td>\n",
              "      <td>4</td>\n",
              "    </tr>\n",
              "    <tr>\n",
              "      <th>12</th>\n",
              "      <td>1</td>\n",
              "      <td>5</td>\n",
              "      <td>2</td>\n",
              "      <td>4</td>\n",
              "      <td>5</td>\n",
              "      <td>5</td>\n",
              "      <td>5</td>\n",
              "    </tr>\n",
              "    <tr>\n",
              "      <th>13</th>\n",
              "      <td>0</td>\n",
              "      <td>4</td>\n",
              "      <td>2</td>\n",
              "      <td>4</td>\n",
              "      <td>5</td>\n",
              "      <td>4</td>\n",
              "      <td>3</td>\n",
              "    </tr>\n",
              "    <tr>\n",
              "      <th>14</th>\n",
              "      <td>0</td>\n",
              "      <td>4</td>\n",
              "      <td>1</td>\n",
              "      <td>3</td>\n",
              "      <td>3</td>\n",
              "      <td>4</td>\n",
              "      <td>3</td>\n",
              "    </tr>\n",
              "  </tbody>\n",
              "</table>\n",
              "</div>"
            ],
            "text/plain": [
              "    Y  X1  X2  X3  X4  X5  X6\n",
              "0   0   3   3   3   4   2   4\n",
              "1   0   3   2   3   5   4   3\n",
              "2   1   5   3   3   3   3   5\n",
              "3   0   5   4   3   3   3   5\n",
              "4   0   5   4   3   3   3   5\n",
              "5   1   5   5   3   5   5   5\n",
              "6   0   3   1   2   2   1   3\n",
              "7   1   5   4   4   4   4   5\n",
              "8   0   4   1   4   4   4   4\n",
              "9   0   4   4   4   2   5   5\n",
              "10  0   3   2   3   3   2   3\n",
              "11  0   4   4   3   4   4   4\n",
              "12  1   5   2   4   5   5   5\n",
              "13  0   4   2   4   5   4   3\n",
              "14  0   4   1   3   3   4   3"
            ]
          },
          "metadata": {},
          "execution_count": 287
        }
      ]
    },
    {
      "cell_type": "code",
      "metadata": {
        "colab": {
          "base_uri": "https://localhost:8080/"
        },
        "id": "_u4thMku3npS",
        "outputId": "36b0212e-f75d-4dae-d285-9a9ddf9d0538"
      },
      "source": [
        "df.info()"
      ],
      "execution_count": null,
      "outputs": [
        {
          "output_type": "stream",
          "name": "stdout",
          "text": [
            "<class 'pandas.core.frame.DataFrame'>\n",
            "RangeIndex: 126 entries, 0 to 125\n",
            "Data columns (total 7 columns):\n",
            " #   Column  Non-Null Count  Dtype\n",
            "---  ------  --------------  -----\n",
            " 0   Y       126 non-null    int64\n",
            " 1   X1      126 non-null    int64\n",
            " 2   X2      126 non-null    int64\n",
            " 3   X3      126 non-null    int64\n",
            " 4   X4      126 non-null    int64\n",
            " 5   X5      126 non-null    int64\n",
            " 6   X6      126 non-null    int64\n",
            "dtypes: int64(7)\n",
            "memory usage: 7.0 KB\n"
          ]
        }
      ]
    },
    {
      "cell_type": "code",
      "metadata": {
        "colab": {
          "base_uri": "https://localhost:8080/"
        },
        "id": "dldo1PqO3nr0",
        "outputId": "3aea7475-6638-4193-ec22-e01393431540"
      },
      "source": [
        "df[\"Y\"].value_counts()"
      ],
      "execution_count": null,
      "outputs": [
        {
          "output_type": "execute_result",
          "data": {
            "text/plain": [
              "1    69\n",
              "0    57\n",
              "Name: Y, dtype: int64"
            ]
          },
          "metadata": {},
          "execution_count": 289
        }
      ]
    },
    {
      "cell_type": "code",
      "metadata": {
        "colab": {
          "base_uri": "https://localhost:8080/",
          "height": 265
        },
        "id": "cEEISEo-3nuL",
        "outputId": "21789d77-0ffc-46d2-d098-d3d08b523d42"
      },
      "source": [
        "df[\"Y\"].value_counts().plot.barh();"
      ],
      "execution_count": null,
      "outputs": [
        {
          "output_type": "display_data",
          "data": {
            "image/png": "[encoded data removed]",
            "text/plain": [
              "<Figure size 432x288 with 1 Axes>"
            ]
          },
          "metadata": {
            "needs_background": "light"
          }
        }
      ]
    },
    {
      "cell_type": "code",
      "metadata": {
        "colab": {
          "base_uri": "https://localhost:8080/",
          "height": 266
        },
        "id": "LZuHj2Yc3nwq",
        "outputId": "dedb73fd-f68d-4529-a553-2c4e7ab59d5d"
      },
      "source": [
        "df.describe().T"
      ],
      "execution_count": null,
      "outputs": [
        {
          "output_type": "execute_result",
          "data": {
            "text/html": [
              "<div>\n",
              "<style scoped>\n",
              "    .dataframe tbody tr th:only-of-type {\n",
              "        vertical-align: middle;\n",
              "    }\n",
              "\n",
              "    .dataframe tbody tr th {\n",
              "        vertical-align: top;\n",
              "    }\n",
              "\n",
              "    .dataframe thead th {\n",
              "        text-align: right;\n",
              "    }\n",
              "</style>\n",
              "<table border=\"1\" class=\"dataframe\">\n",
              "  <thead>\n",
              "    <tr style=\"text-align: right;\">\n",
              "      <th></th>\n",
              "      <th>count</th>\n",
              "      <th>mean</th>\n",
              "      <th>std</th>\n",
              "      <th>min</th>\n",
              "      <th>25%</th>\n",
              "      <th>50%</th>\n",
              "      <th>75%</th>\n",
              "      <th>max</th>\n",
              "    </tr>\n",
              "  </thead>\n",
              "  <tbody>\n",
              "    <tr>\n",
              "      <th>Y</th>\n",
              "      <td>126.0</td>\n",
              "      <td>0.547619</td>\n",
              "      <td>0.499714</td>\n",
              "      <td>0.0</td>\n",
              "      <td>0.0</td>\n",
              "      <td>1.0</td>\n",
              "      <td>1.0</td>\n",
              "      <td>1.0</td>\n",
              "    </tr>\n",
              "    <tr>\n",
              "      <th>X1</th>\n",
              "      <td>126.0</td>\n",
              "      <td>4.333333</td>\n",
              "      <td>0.800000</td>\n",
              "      <td>1.0</td>\n",
              "      <td>4.0</td>\n",
              "      <td>5.0</td>\n",
              "      <td>5.0</td>\n",
              "      <td>5.0</td>\n",
              "    </tr>\n",
              "    <tr>\n",
              "      <th>X2</th>\n",
              "      <td>126.0</td>\n",
              "      <td>2.531746</td>\n",
              "      <td>1.114892</td>\n",
              "      <td>1.0</td>\n",
              "      <td>2.0</td>\n",
              "      <td>3.0</td>\n",
              "      <td>3.0</td>\n",
              "      <td>5.0</td>\n",
              "    </tr>\n",
              "    <tr>\n",
              "      <th>X3</th>\n",
              "      <td>126.0</td>\n",
              "      <td>3.309524</td>\n",
              "      <td>1.023440</td>\n",
              "      <td>1.0</td>\n",
              "      <td>3.0</td>\n",
              "      <td>3.0</td>\n",
              "      <td>4.0</td>\n",
              "      <td>5.0</td>\n",
              "    </tr>\n",
              "    <tr>\n",
              "      <th>X4</th>\n",
              "      <td>126.0</td>\n",
              "      <td>3.746032</td>\n",
              "      <td>0.875776</td>\n",
              "      <td>1.0</td>\n",
              "      <td>3.0</td>\n",
              "      <td>4.0</td>\n",
              "      <td>4.0</td>\n",
              "      <td>5.0</td>\n",
              "    </tr>\n",
              "    <tr>\n",
              "      <th>X5</th>\n",
              "      <td>126.0</td>\n",
              "      <td>3.650794</td>\n",
              "      <td>1.147641</td>\n",
              "      <td>1.0</td>\n",
              "      <td>3.0</td>\n",
              "      <td>4.0</td>\n",
              "      <td>4.0</td>\n",
              "      <td>5.0</td>\n",
              "    </tr>\n",
              "    <tr>\n",
              "      <th>X6</th>\n",
              "      <td>126.0</td>\n",
              "      <td>4.253968</td>\n",
              "      <td>0.809311</td>\n",
              "      <td>1.0</td>\n",
              "      <td>4.0</td>\n",
              "      <td>4.0</td>\n",
              "      <td>5.0</td>\n",
              "      <td>5.0</td>\n",
              "    </tr>\n",
              "  </tbody>\n",
              "</table>\n",
              "</div>"
            ],
            "text/plain": [
              "    count      mean       std  min  25%  50%  75%  max\n",
              "Y   126.0  0.547619  0.499714  0.0  0.0  1.0  1.0  1.0\n",
              "X1  126.0  4.333333  0.800000  1.0  4.0  5.0  5.0  5.0\n",
              "X2  126.0  2.531746  1.114892  1.0  2.0  3.0  3.0  5.0\n",
              "X3  126.0  3.309524  1.023440  1.0  3.0  3.0  4.0  5.0\n",
              "X4  126.0  3.746032  0.875776  1.0  3.0  4.0  4.0  5.0\n",
              "X5  126.0  3.650794  1.147641  1.0  3.0  4.0  4.0  5.0\n",
              "X6  126.0  4.253968  0.809311  1.0  4.0  4.0  5.0  5.0"
            ]
          },
          "metadata": {},
          "execution_count": 291
        }
      ]
    },
    {
      "cell_type": "code",
      "metadata": {
        "colab": {
          "base_uri": "https://localhost:8080/",
          "height": 296
        },
        "id": "sKNL7t2Agv45",
        "outputId": "a68ef78a-549f-4fa2-e54d-01d3dc8c74c5"
      },
      "source": [
        "sns.countplot(x='X1',hue='Y',data=df)"
      ],
      "execution_count": null,
      "outputs": [
        {
          "output_type": "execute_result",
          "data": {
            "text/plain": [
              "<matplotlib.axes._subplots.AxesSubplot at 0x7fb4ba77de50>"
            ]
          },
          "metadata": {},
          "execution_count": 292
        },
        {
          "output_type": "display_data",
          "data": {
            "image/png": "[encoded data removed]",
            "text/plain": [
              "<Figure size 432x288 with 1 Axes>"
            ]
          },
          "metadata": {
            "needs_background": "light"
          }
        }
      ]
    },
    {
      "cell_type": "code",
      "metadata": {
        "colab": {
          "base_uri": "https://localhost:8080/",
          "height": 296
        },
        "id": "pWI6uC1xhBp2",
        "outputId": "6b6bff0a-cdd2-4711-c757-863fcddb3698"
      },
      "source": [
        "sns.countplot(x='X2',hue='Y',data=df),"
      ],
      "execution_count": null,
      "outputs": [
        {
          "output_type": "execute_result",
          "data": {
            "text/plain": [
              "(<matplotlib.axes._subplots.AxesSubplot at 0x7fb4b7f084d0>,)"
            ]
          },
          "metadata": {},
          "execution_count": 293
        },
        {
          "output_type": "display_data",
          "data": {
            "image/png": "[encoded data removed]",
            "text/plain": [
              "<Figure size 432x288 with 1 Axes>"
            ]
          },
          "metadata": {
            "needs_background": "light"
          }
        }
      ]
    },
    {
      "cell_type": "code",
      "metadata": {
        "colab": {
          "base_uri": "https://localhost:8080/",
          "height": 297
        },
        "id": "-i9s4owVhDdG",
        "outputId": "13faa8e5-870f-4a7b-e28e-810d61167188"
      },
      "source": [
        "sns.countplot(x='X3',hue='Y',data=df),"
      ],
      "execution_count": null,
      "outputs": [
        {
          "output_type": "execute_result",
          "data": {
            "text/plain": [
              "(<matplotlib.axes._subplots.AxesSubplot at 0x7fb4b80c34d0>,)"
            ]
          },
          "metadata": {},
          "execution_count": 294
        },
        {
          "output_type": "display_data",
          "data": {
            "image/png": "[encoded data removed]",
            "text/plain": [
              "<Figure size 432x288 with 1 Axes>"
            ]
          },
          "metadata": {
            "needs_background": "light"
          }
        }
      ]
    },
    {
      "cell_type": "code",
      "metadata": {
        "colab": {
          "base_uri": "https://localhost:8080/",
          "height": 296
        },
        "id": "L0M-RUQhhFyM",
        "outputId": "0dbfeb17-bdd3-4697-bb8b-3a6edc063583"
      },
      "source": [
        "sns.countplot(x='X4',hue='Y',data=df),"
      ],
      "execution_count": null,
      "outputs": [
        {
          "output_type": "execute_result",
          "data": {
            "text/plain": [
              "(<matplotlib.axes._subplots.AxesSubplot at 0x7fb4b7da4150>,)"
            ]
          },
          "metadata": {},
          "execution_count": 295
        },
        {
          "output_type": "display_data",
          "data": {
            "image/png": "[encoded data removed]",
            "text/plain": [
              "<Figure size 432x288 with 1 Axes>"
            ]
          },
          "metadata": {
            "needs_background": "light"
          }
        }
      ]
    },
    {
      "cell_type": "code",
      "metadata": {
        "colab": {
          "base_uri": "https://localhost:8080/",
          "height": 296
        },
        "id": "FatHJS3shJJ1",
        "outputId": "279b2219-2011-449d-ffe8-2d1109d4c7ca"
      },
      "source": [
        "sns.countplot(x='X5',hue='Y',data=df)"
      ],
      "execution_count": null,
      "outputs": [
        {
          "output_type": "execute_result",
          "data": {
            "text/plain": [
              "<matplotlib.axes._subplots.AxesSubplot at 0x7fb4b7f74650>"
            ]
          },
          "metadata": {},
          "execution_count": 296
        },
        {
          "output_type": "display_data",
          "data": {
            "image/png": "[encoded data removed]",
            "text/plain": [
              "<Figure size 432x288 with 1 Axes>"
            ]
          },
          "metadata": {
            "needs_background": "light"
          }
        }
      ]
    },
    {
      "cell_type": "code",
      "metadata": {
        "colab": {
          "base_uri": "https://localhost:8080/",
          "height": 296
        },
        "id": "iogKZZmDhN5d",
        "outputId": "6541ce14-b795-46d8-bce9-fd50183cd0b3"
      },
      "source": [
        "sns.countplot(x='X6',hue='Y',data=df)"
      ],
      "execution_count": null,
      "outputs": [
        {
          "output_type": "execute_result",
          "data": {
            "text/plain": [
              "<matplotlib.axes._subplots.AxesSubplot at 0x7fb4b7fc5ed0>"
            ]
          },
          "metadata": {},
          "execution_count": 297
        },
        {
          "output_type": "display_data",
          "data": {
            "image/png": "[encoded data removed]",
            "text/plain": [
              "<Figure size 432x288 with 1 Axes>"
            ]
          },
          "metadata": {
            "needs_background": "light"
          }
        }
      ]
    },
    {
      "cell_type": "code",
      "metadata": {
        "colab": {
          "base_uri": "https://localhost:8080/",
          "height": 596
        },
        "id": "J5H6xyWkhadp",
        "outputId": "f8a15238-c468-4a80-82ea-d41129155be9"
      },
      "source": [
        "plt.figure(figsize=(10,10))\n",
        "cor = df.corr()\n",
        "sns.heatmap(cor, annot=True, cmap=plt.cm.Reds)\n",
        "plt.show()"
      ],
      "execution_count": null,
      "outputs": [
        {
          "output_type": "display_data",
          "data": {
            "image/png": "[encoded data removed]",
            "text/plain": [
              "<Figure size 720x720 with 2 Axes>"
            ]
          },
          "metadata": {
            "needs_background": "light"
          }
        }
      ]
    },
    {
      "cell_type": "code",
      "metadata": {
        "colab": {
          "base_uri": "https://localhost:8080/"
        },
        "id": "MWzuwrdShlvc",
        "outputId": "f36ddc24-195b-4d31-b35a-fac5a00a23b0"
      },
      "source": [
        "cor_target = abs(cor['Y']).sort_values(ascending=False)[1:]\n",
        "\n",
        "cor_target"
      ],
      "execution_count": null,
      "outputs": [
        {
          "output_type": "execute_result",
          "data": {
            "text/plain": [
              "X1    0.280160\n",
              "X5    0.224522\n",
              "X6    0.167669\n",
              "X3    0.150838\n",
              "X4    0.064415\n",
              "X2    0.024274\n",
              "Name: Y, dtype: float64"
            ]
          },
          "metadata": {},
          "execution_count": 299
        }
      ]
    },
    {
      "cell_type": "code",
      "metadata": {
        "id": "EAF7JjhI3nzC"
      },
      "source": [
        "y = df[\"Y\"]\n",
        "X = df.drop([\"Y\"], axis=1)"
      ],
      "execution_count": null,
      "outputs": []
    },
    {
      "cell_type": "markdown",
      "metadata": {
        "id": "4qL4thVFKsuB"
      },
      "source": [
        "**statsmodels**"
      ]
    },
    {
      "cell_type": "code",
      "metadata": {
        "colab": {
          "base_uri": "https://localhost:8080/"
        },
        "id": "89-jhruN3n1d",
        "outputId": "f7681eae-6adf-4231-e7cf-76418b013e3d"
      },
      "source": [
        "loj = sm.Logit(y, X)\n",
        "loj_model= loj.fit()\n",
        "print(loj_model.summary())"
      ],
      "execution_count": null,
      "outputs": [
        {
          "output_type": "stream",
          "name": "stdout",
          "text": [
            "Optimization terminated successfully.\n",
            "         Current function value: 0.662533\n",
            "         Iterations 5\n",
            "                           Logit Regression Results                           \n",
            "==============================================================================\n",
            "Dep. Variable:                      Y   No. Observations:                  126\n",
            "Model:                          Logit   Df Residuals:                      120\n",
            "Method:                           MLE   Df Model:                            5\n",
            "Date:                Sun, 17 Oct 2021   Pseudo R-squ.:                 0.03786\n",
            "Time:                        15:15:40   Log-Likelihood:                -83.479\n",
            "converged:                       True   LL-Null:                       -86.764\n",
            "Covariance Type:            nonrobust   LLR p-value:                    0.2546\n",
            "==============================================================================\n",
            "                 coef    std err          z      P>|z|      [0.025      0.975]\n",
            "------------------------------------------------------------------------------\n",
            "X1             0.2543      0.251      1.013      0.311      -0.238       0.746\n",
            "X2            -0.1896      0.168     -1.127      0.260      -0.519       0.140\n",
            "X3             0.0888      0.204      0.435      0.663      -0.311       0.488\n",
            "X4            -0.2254      0.215     -1.047      0.295      -0.648       0.197\n",
            "X5             0.2325      0.193      1.203      0.229      -0.146       0.611\n",
            "X6            -0.1554      0.246     -0.632      0.527      -0.637       0.326\n",
            "==============================================================================\n"
          ]
        }
      ]
    },
    {
      "cell_type": "markdown",
      "metadata": {
        "id": "7f_aVqIgK37X"
      },
      "source": [
        "**scikit-learn**"
      ]
    },
    {
      "cell_type": "code",
      "metadata": {
        "colab": {
          "base_uri": "https://localhost:8080/"
        },
        "id": "SCWf8iZ3KzNz",
        "outputId": "10d2cd1e-c539-40b5-b77a-c4e8f4f32213"
      },
      "source": [
        "from sklearn.linear_model import LogisticRegression\n",
        "loj = LogisticRegression(solver = 'liblinear' )\n",
        "loj_model = loj.fit(X,y)\n",
        "loj_model"
      ],
      "execution_count": null,
      "outputs": [
        {
          "output_type": "execute_result",
          "data": {
            "text/plain": [
              "LogisticRegression(C=1.0, class_weight=None, dual=False, fit_intercept=True,\n",
              "                   intercept_scaling=1, l1_ratio=None, max_iter=100,\n",
              "                   multi_class='auto', n_jobs=None, penalty='l2',\n",
              "                   random_state=None, solver='liblinear', tol=0.0001, verbose=0,\n",
              "                   warm_start=False)"
            ]
          },
          "metadata": {},
          "execution_count": 302
        }
      ]
    },
    {
      "cell_type": "code",
      "metadata": {
        "colab": {
          "base_uri": "https://localhost:8080/"
        },
        "id": "4gu4iKZTKzIS",
        "outputId": "398764fb-793f-48f3-d6cd-30fa33b9486e"
      },
      "source": [
        "loj_model.intercept_"
      ],
      "execution_count": null,
      "outputs": [
        {
          "output_type": "execute_result",
          "data": {
            "text/plain": [
              "array([-1.16531383])"
            ]
          },
          "metadata": {},
          "execution_count": 303
        }
      ]
    },
    {
      "cell_type": "code",
      "metadata": {
        "colab": {
          "base_uri": "https://localhost:8080/"
        },
        "id": "cy4_EszIKzFz",
        "outputId": "210a4871-4a03-406b-a2f3-03797b7025e4"
      },
      "source": [
        "loj_model.coef_"
      ],
      "execution_count": null,
      "outputs": [
        {
          "output_type": "execute_result",
          "data": {
            "text/plain": [
              "array([[ 0.33323844, -0.15174042,  0.09988177, -0.14293119,  0.21546681,\n",
              "        -0.05641371]])"
            ]
          },
          "metadata": {},
          "execution_count": 304
        }
      ]
    },
    {
      "cell_type": "markdown",
      "metadata": {
        "id": "jTIvufomLDJ8"
      },
      "source": [
        "**FORECAST & MODEL TUNING**"
      ]
    },
    {
      "cell_type": "code",
      "metadata": {
        "id": "T6oSqTv9KzDE"
      },
      "source": [
        "y_pred = loj_model.predict(X)"
      ],
      "execution_count": null,
      "outputs": []
    },
    {
      "cell_type": "code",
      "metadata": {
        "colab": {
          "base_uri": "https://localhost:8080/"
        },
        "id": "9ELVLyh9KzAn",
        "outputId": "bc4b7d7e-9c67-44bd-b764-f689f32b912f"
      },
      "source": [
        "confusion_matrix(y, y_pred)"
      ],
      "execution_count": null,
      "outputs": [
        {
          "output_type": "execute_result",
          "data": {
            "text/plain": [
              "array([[22, 35],\n",
              "       [14, 55]])"
            ]
          },
          "metadata": {},
          "execution_count": 306
        }
      ]
    },
    {
      "cell_type": "code",
      "metadata": {
        "colab": {
          "base_uri": "https://localhost:8080/"
        },
        "id": "b8bar4ajKy21",
        "outputId": "b722e8f6-0f70-4a60-c129-4d2b38121285"
      },
      "source": [
        "accuracy_score(y, y_pred)"
      ],
      "execution_count": null,
      "outputs": [
        {
          "output_type": "execute_result",
          "data": {
            "text/plain": [
              "0.6111111111111112"
            ]
          },
          "metadata": {},
          "execution_count": 307
        }
      ]
    },
    {
      "cell_type": "code",
      "metadata": {
        "colab": {
          "base_uri": "https://localhost:8080/"
        },
        "id": "8Ip5OD_MKy0f",
        "outputId": "3f4b9e85-5a09-4615-8373-bde478ed2a5e"
      },
      "source": [
        "print(classification_report(y, y_pred))"
      ],
      "execution_count": null,
      "outputs": [
        {
          "output_type": "stream",
          "name": "stdout",
          "text": [
            "              precision    recall  f1-score   support\n",
            "\n",
            "           0       0.61      0.39      0.47        57\n",
            "           1       0.61      0.80      0.69        69\n",
            "\n",
            "    accuracy                           0.61       126\n",
            "   macro avg       0.61      0.59      0.58       126\n",
            "weighted avg       0.61      0.61      0.59       126\n",
            "\n"
          ]
        }
      ]
    },
    {
      "cell_type": "code",
      "metadata": {
        "colab": {
          "base_uri": "https://localhost:8080/"
        },
        "id": "4EpEgBruKyxx",
        "outputId": "b129f145-4423-48d1-fed0-632373146a74"
      },
      "source": [
        "loj_model.predict(X)[0:10]"
      ],
      "execution_count": null,
      "outputs": [
        {
          "output_type": "execute_result",
          "data": {
            "text/plain": [
              "array([0, 0, 1, 1, 1, 1, 0, 1, 1, 1])"
            ]
          },
          "metadata": {},
          "execution_count": 309
        }
      ]
    },
    {
      "cell_type": "code",
      "metadata": {
        "colab": {
          "base_uri": "https://localhost:8080/"
        },
        "id": "LkXgfRHnKyvH",
        "outputId": "a1af6ed2-70ea-471c-d8c8-7b4dc0536c00"
      },
      "source": [
        "loj_model.predict_proba(X)[0:10][:,0:2]"
      ],
      "execution_count": null,
      "outputs": [
        {
          "output_type": "execute_result",
          "data": {
            "text/plain": [
              "array([[0.66543737, 0.33456263],\n",
              "       [0.54772028, 0.45227972],\n",
              "       [0.43024767, 0.56975233],\n",
              "       [0.46776968, 0.53223032],\n",
              "       [0.46776968, 0.53223032],\n",
              "       [0.46943039, 0.53056961],\n",
              "       [0.58836539, 0.41163461],\n",
              "       [0.42518651, 0.57481349],\n",
              "       [0.38227238, 0.61772762],\n",
              "       [0.38470892, 0.61529108]])"
            ]
          },
          "metadata": {},
          "execution_count": 310
        }
      ]
    },
    {
      "cell_type": "code",
      "metadata": {
        "colab": {
          "base_uri": "https://localhost:8080/"
        },
        "id": "hlDB1tN0Kysj",
        "outputId": "aca587e4-e49a-48e8-f5b2-7c491d0c63d6"
      },
      "source": [
        "y[0:10]"
      ],
      "execution_count": null,
      "outputs": [
        {
          "output_type": "execute_result",
          "data": {
            "text/plain": [
              "0    0\n",
              "1    0\n",
              "2    1\n",
              "3    0\n",
              "4    0\n",
              "5    1\n",
              "6    0\n",
              "7    1\n",
              "8    0\n",
              "9    0\n",
              "Name: Y, dtype: int64"
            ]
          },
          "metadata": {},
          "execution_count": 311
        }
      ]
    },
    {
      "cell_type": "code",
      "metadata": {
        "id": "2zk1NqcUKyqI"
      },
      "source": [
        "y_probs = loj_model.predict_proba(X)\n",
        "y_probs = y_probs[:,1]"
      ],
      "execution_count": null,
      "outputs": []
    },
    {
      "cell_type": "code",
      "metadata": {
        "colab": {
          "base_uri": "https://localhost:8080/"
        },
        "id": "7CHWmK1pKyn0",
        "outputId": "aa3eb6f3-51a8-4f22-9ec9-2187d57155d9"
      },
      "source": [
        "y_probs[0:10]"
      ],
      "execution_count": null,
      "outputs": [
        {
          "output_type": "execute_result",
          "data": {
            "text/plain": [
              "array([0.33456263, 0.45227972, 0.56975233, 0.53223032, 0.53223032,\n",
              "       0.53056961, 0.41163461, 0.57481349, 0.61772762, 0.61529108])"
            ]
          },
          "metadata": {},
          "execution_count": 313
        }
      ]
    },
    {
      "cell_type": "code",
      "metadata": {
        "id": "eFHbkqQmKylZ"
      },
      "source": [
        "y_pred = [1 if i > 0.5 else 0 for i in y_probs]"
      ],
      "execution_count": null,
      "outputs": []
    },
    {
      "cell_type": "code",
      "metadata": {
        "colab": {
          "base_uri": "https://localhost:8080/"
        },
        "id": "QVPnm0klKyjE",
        "outputId": "1bc014f7-0482-4aee-ea4e-6eec5ec72409"
      },
      "source": [
        "y_pred[0:10]"
      ],
      "execution_count": null,
      "outputs": [
        {
          "output_type": "execute_result",
          "data": {
            "text/plain": [
              "[0, 0, 1, 1, 1, 1, 0, 1, 1, 1]"
            ]
          },
          "metadata": {},
          "execution_count": 315
        }
      ]
    },
    {
      "cell_type": "code",
      "metadata": {
        "colab": {
          "base_uri": "https://localhost:8080/"
        },
        "id": "Qwq5Le9YKygb",
        "outputId": "79ad4bfb-4795-4bf9-d9d6-48c6bc45b3d2"
      },
      "source": [
        "confusion_matrix(y, y_pred)"
      ],
      "execution_count": null,
      "outputs": [
        {
          "output_type": "execute_result",
          "data": {
            "text/plain": [
              "array([[22, 35],\n",
              "       [14, 55]])"
            ]
          },
          "metadata": {},
          "execution_count": 316
        }
      ]
    },
    {
      "cell_type": "code",
      "metadata": {
        "colab": {
          "base_uri": "https://localhost:8080/"
        },
        "id": "TkSJnpWjKyd7",
        "outputId": "bf4bc1b4-4328-4515-bcc0-5568b8fc44a3"
      },
      "source": [
        "accuracy_score(y, y_pred)"
      ],
      "execution_count": null,
      "outputs": [
        {
          "output_type": "execute_result",
          "data": {
            "text/plain": [
              "0.6111111111111112"
            ]
          },
          "metadata": {},
          "execution_count": 317
        }
      ]
    },
    {
      "cell_type": "code",
      "metadata": {
        "colab": {
          "base_uri": "https://localhost:8080/"
        },
        "id": "kjHYF9UjKybR",
        "outputId": "1f7424aa-2504-4a60-9fab-f72171a6816c"
      },
      "source": [
        "print(classification_report(y, y_pred))"
      ],
      "execution_count": null,
      "outputs": [
        {
          "output_type": "stream",
          "name": "stdout",
          "text": [
            "              precision    recall  f1-score   support\n",
            "\n",
            "           0       0.61      0.39      0.47        57\n",
            "           1       0.61      0.80      0.69        69\n",
            "\n",
            "    accuracy                           0.61       126\n",
            "   macro avg       0.61      0.59      0.58       126\n",
            "weighted avg       0.61      0.61      0.59       126\n",
            "\n"
          ]
        }
      ]
    },
    {
      "cell_type": "code",
      "metadata": {
        "colab": {
          "base_uri": "https://localhost:8080/"
        },
        "id": "54VFCI2lKyY4",
        "outputId": "f9cd3235-6910-4f92-936e-e885b78c97fa"
      },
      "source": [
        "loj_model.predict_proba(X)[:,1][0:5]"
      ],
      "execution_count": null,
      "outputs": [
        {
          "output_type": "execute_result",
          "data": {
            "text/plain": [
              "array([0.33456263, 0.45227972, 0.56975233, 0.53223032, 0.53223032])"
            ]
          },
          "metadata": {},
          "execution_count": 319
        }
      ]
    },
    {
      "cell_type": "code",
      "metadata": {
        "id": "7NlZGDS77qGG",
        "colab": {
          "base_uri": "https://localhost:8080/",
          "height": 295
        },
        "outputId": "6831ccba-c896-4919-ff89-db5a54c0e28e"
      },
      "source": [
        "logit_roc_auc = roc_auc_score(y, loj_model.predict(X))\n",
        "\n",
        "fpr, tpr, thresholds = roc_curve(y, loj_model.predict_proba(X)[:,1])\n",
        "plt.figure()\n",
        "plt.plot(fpr, tpr, label='AUC (area = %0.2f)' % logit_roc_auc)\n",
        "plt.plot([0, 1], [0, 1],'r--')\n",
        "plt.xlim([0.0, 1.0])\n",
        "plt.ylim([0.0, 1.05])\n",
        "plt.xlabel('False Positive Oranı')\n",
        "plt.ylabel('True Positive Oranı')\n",
        "plt.title('ROC')\n",
        "plt.show()"
      ],
      "execution_count": null,
      "outputs": [
        {
          "output_type": "display_data",
          "data": {
            "image/png": "[encoded data removed]",
            "text/plain": [
              "<Figure size 432x288 with 1 Axes>"
            ]
          },
          "metadata": {
            "needs_background": "light"
          }
        }
      ]
    },
    {
      "cell_type": "code",
      "metadata": {
        "id": "e-Vaj80oLlXV"
      },
      "source": [
        "X_train, X_test, y_train, y_test = train_test_split(X, y, \n",
        "                                                    test_size = 0.30, \n",
        "                                                    random_state = 42)\n"
      ],
      "execution_count": null,
      "outputs": []
    },
    {
      "cell_type": "code",
      "metadata": {
        "colab": {
          "base_uri": "https://localhost:8080/"
        },
        "id": "vkjzYKgjLp0F",
        "outputId": "b0ba5d30-6be3-499d-aaa8-a50a8b7174bc"
      },
      "source": [
        "loj = LogisticRegression(solver = \"liblinear\")\n",
        "loj_model = loj.fit(X_train,y_train)\n",
        "loj_model"
      ],
      "execution_count": null,
      "outputs": [
        {
          "output_type": "execute_result",
          "data": {
            "text/plain": [
              "LogisticRegression(C=1.0, class_weight=None, dual=False, fit_intercept=True,\n",
              "                   intercept_scaling=1, l1_ratio=None, max_iter=100,\n",
              "                   multi_class='auto', n_jobs=None, penalty='l2',\n",
              "                   random_state=None, solver='liblinear', tol=0.0001, verbose=0,\n",
              "                   warm_start=False)"
            ]
          },
          "metadata": {},
          "execution_count": 322
        }
      ]
    },
    {
      "cell_type": "code",
      "metadata": {
        "colab": {
          "base_uri": "https://localhost:8080/"
        },
        "id": "C_OYAZHHLqx9",
        "outputId": "49caf03e-39b0-4c1f-e3db-b8a8cfe047d2"
      },
      "source": [
        "accuracy_score(y_test, loj_model.predict(X_test))"
      ],
      "execution_count": null,
      "outputs": [
        {
          "output_type": "execute_result",
          "data": {
            "text/plain": [
              "0.5263157894736842"
            ]
          },
          "metadata": {},
          "execution_count": 323
        }
      ]
    },
    {
      "cell_type": "code",
      "metadata": {
        "colab": {
          "base_uri": "https://localhost:8080/"
        },
        "id": "AFZfZxE2Lrvn",
        "outputId": "f2871589-d099-4cfc-8ba4-929da6cd9106"
      },
      "source": [
        "cross_val_score(loj_model, X_test, y_test, cv = 2).mean()"
      ],
      "execution_count": null,
      "outputs": [
        {
          "output_type": "execute_result",
          "data": {
            "text/plain": [
              "0.6842105263157895"
            ]
          },
          "metadata": {},
          "execution_count": 324
        }
      ]
    },
    {
      "cell_type": "markdown",
      "metadata": {
        "id": "V_pBHtNgMNCS"
      },
      "source": [
        "# **Gaussian Naive Bayes**"
      ]
    },
    {
      "cell_type": "code",
      "metadata": {
        "id": "sgtVoCj4Ls5u"
      },
      "source": [
        "y = df[\"Y\"]\n",
        "X = df.drop([\"Y\"], axis=1)\n",
        "X_train, X_test, y_train, y_test = train_test_split(X, y, \n",
        "                                                    test_size=0.30, \n",
        "                                                    random_state=42)"
      ],
      "execution_count": null,
      "outputs": []
    },
    {
      "cell_type": "code",
      "metadata": {
        "id": "fny8SFv-MaL2"
      },
      "source": [
        "from sklearn.naive_bayes import GaussianNB"
      ],
      "execution_count": null,
      "outputs": []
    },
    {
      "cell_type": "code",
      "metadata": {
        "colab": {
          "base_uri": "https://localhost:8080/"
        },
        "id": "0AvJ_pViMbLF",
        "outputId": "f5e7b468-300c-4433-d94d-36f9d0d33661"
      },
      "source": [
        "nb = GaussianNB()\n",
        "nb_model = nb.fit(X_train, y_train)\n",
        "nb_model"
      ],
      "execution_count": null,
      "outputs": [
        {
          "output_type": "execute_result",
          "data": {
            "text/plain": [
              "GaussianNB(priors=None, var_smoothing=1e-09)"
            ]
          },
          "metadata": {},
          "execution_count": 327
        }
      ]
    },
    {
      "cell_type": "code",
      "metadata": {
        "id": "y7n0tLFz-0Ye",
        "colab": {
          "base_uri": "https://localhost:8080/"
        },
        "outputId": "35b91cb0-513c-4932-9552-f481a55052a4"
      },
      "source": [
        "nb_model.predict(X_test)[0:10]"
      ],
      "execution_count": null,
      "outputs": [
        {
          "output_type": "execute_result",
          "data": {
            "text/plain": [
              "array([1, 1, 0, 1, 0, 1, 1, 1, 1, 0])"
            ]
          },
          "metadata": {},
          "execution_count": 328
        }
      ]
    },
    {
      "cell_type": "code",
      "metadata": {
        "id": "9pcUcJ1t-0Ye",
        "colab": {
          "base_uri": "https://localhost:8080/"
        },
        "outputId": "0abab607-0c74-48b8-a8ef-7262ad66954d"
      },
      "source": [
        "nb_model.predict_proba(X_test)[0:10]"
      ],
      "execution_count": null,
      "outputs": [
        {
          "output_type": "execute_result",
          "data": {
            "text/plain": [
              "array([[0.30395821, 0.69604179],\n",
              "       [0.44754794, 0.55245206],\n",
              "       [0.97645556, 0.02354444],\n",
              "       [0.40728203, 0.59271797],\n",
              "       [0.97457459, 0.02542541],\n",
              "       [0.15500982, 0.84499018],\n",
              "       [0.32297306, 0.67702694],\n",
              "       [0.16627143, 0.83372857],\n",
              "       [0.10349161, 0.89650839],\n",
              "       [0.83388664, 0.16611336]])"
            ]
          },
          "metadata": {},
          "execution_count": 329
        }
      ]
    },
    {
      "cell_type": "code",
      "metadata": {
        "id": "suq3dXz1-0Yf"
      },
      "source": [
        "y_pred = nb_model.predict(X_test)"
      ],
      "execution_count": null,
      "outputs": []
    },
    {
      "cell_type": "code",
      "metadata": {
        "id": "VADAXuOD-0Yf",
        "colab": {
          "base_uri": "https://localhost:8080/"
        },
        "outputId": "5182185b-5b93-43bb-c726-b4d46ea519a5"
      },
      "source": [
        "accuracy_score(y_test, y_pred)"
      ],
      "execution_count": null,
      "outputs": [
        {
          "output_type": "execute_result",
          "data": {
            "text/plain": [
              "0.47368421052631576"
            ]
          },
          "metadata": {},
          "execution_count": 331
        }
      ]
    },
    {
      "cell_type": "code",
      "metadata": {
        "id": "r1gNMWvO-0Yf",
        "colab": {
          "base_uri": "https://localhost:8080/"
        },
        "outputId": "77da7867-10de-42a9-98ac-f918277ef1d6"
      },
      "source": [
        "cross_val_score(nb_model, X_test, y_test, cv = 3).mean()"
      ],
      "execution_count": null,
      "outputs": [
        {
          "output_type": "execute_result",
          "data": {
            "text/plain": [
              "0.6794871794871794"
            ]
          },
          "metadata": {},
          "execution_count": 332
        }
      ]
    },
    {
      "cell_type": "markdown",
      "metadata": {
        "id": "Qql81TqiMopg"
      },
      "source": [
        "# **KNN**"
      ]
    },
    {
      "cell_type": "markdown",
      "metadata": {
        "id": "WWg2PXHWMzN0"
      },
      "source": [
        "**MODEL & FORECAST**"
      ]
    },
    {
      "cell_type": "code",
      "metadata": {
        "id": "ZUck9ZURMtHT"
      },
      "source": [
        "y = df[\"Y\"]\n",
        "X = df.drop([\"Y\"], axis=1)\n",
        "X_train, X_test, y_train, y_test = train_test_split(X, y, \n",
        "                                                    test_size=0.30, \n",
        "                                                    random_state=42)"
      ],
      "execution_count": null,
      "outputs": []
    },
    {
      "cell_type": "code",
      "metadata": {
        "colab": {
          "base_uri": "https://localhost:8080/"
        },
        "id": "urUlRIesMuGP",
        "outputId": "56896ea0-91b2-44f3-daea-f9482f80cb8d"
      },
      "source": [
        "knn = KNeighborsClassifier()\n",
        "knn_model = knn.fit(X_train, y_train)\n",
        "knn_model"
      ],
      "execution_count": null,
      "outputs": [
        {
          "output_type": "execute_result",
          "data": {
            "text/plain": [
              "KNeighborsClassifier(algorithm='auto', leaf_size=30, metric='minkowski',\n",
              "                     metric_params=None, n_jobs=None, n_neighbors=5, p=2,\n",
              "                     weights='uniform')"
            ]
          },
          "metadata": {},
          "execution_count": 334
        }
      ]
    },
    {
      "cell_type": "code",
      "metadata": {
        "id": "nHlwr8Se-0Yg"
      },
      "source": [
        "y_pred = knn_model.predict(X_test)"
      ],
      "execution_count": null,
      "outputs": []
    },
    {
      "cell_type": "code",
      "metadata": {
        "id": "CYTt4Rb4-0Yg",
        "colab": {
          "base_uri": "https://localhost:8080/"
        },
        "outputId": "ea9f528c-e81a-48ed-fdab-938464fd2148"
      },
      "source": [
        "accuracy_score(y_test, y_pred)"
      ],
      "execution_count": null,
      "outputs": [
        {
          "output_type": "execute_result",
          "data": {
            "text/plain": [
              "0.47368421052631576"
            ]
          },
          "metadata": {},
          "execution_count": 336
        }
      ]
    },
    {
      "cell_type": "code",
      "metadata": {
        "id": "oft2W9rf-0Yg",
        "colab": {
          "base_uri": "https://localhost:8080/"
        },
        "outputId": "317ee694-93ad-47df-cd1c-dbde1033925b"
      },
      "source": [
        "print(classification_report(y_test, y_pred))"
      ],
      "execution_count": null,
      "outputs": [
        {
          "output_type": "stream",
          "name": "stdout",
          "text": [
            "              precision    recall  f1-score   support\n",
            "\n",
            "           0       0.50      0.25      0.33        20\n",
            "           1       0.46      0.72      0.57        18\n",
            "\n",
            "    accuracy                           0.47        38\n",
            "   macro avg       0.48      0.49      0.45        38\n",
            "weighted avg       0.48      0.47      0.44        38\n",
            "\n"
          ]
        }
      ]
    },
    {
      "cell_type": "markdown",
      "metadata": {
        "id": "v1jb1xCbNBuc"
      },
      "source": [
        "**Model Tuning**"
      ]
    },
    {
      "cell_type": "code",
      "metadata": {
        "id": "36gBotnj-0Yg"
      },
      "source": [
        "knn_params = {\"leaf_size\": np.arange(1,50), 'n_neighbors' : np.arange(1,30) , 'p': [1,2]}"
      ],
      "execution_count": null,
      "outputs": []
    },
    {
      "cell_type": "code",
      "metadata": {
        "id": "ZGN7CSqO-0Yh",
        "colab": {
          "base_uri": "https://localhost:8080/"
        },
        "outputId": "94ad4b38-a98f-457e-f45a-026b8cf4d3d8"
      },
      "source": [
        "knn = KNeighborsClassifier()\n",
        "knn_cv = GridSearchCV(knn, knn_params, cv=10)\n",
        "knn_cv.fit(X_train, y_train)"
      ],
      "execution_count": null,
      "outputs": [
        {
          "output_type": "execute_result",
          "data": {
            "text/plain": [
              "GridSearchCV(cv=10, error_score=nan,\n",
              "             estimator=KNeighborsClassifier(algorithm='auto', leaf_size=30,\n",
              "                                            metric='minkowski',\n",
              "                                            metric_params=None, n_jobs=None,\n",
              "                                            n_neighbors=5, p=2,\n",
              "                                            weights='uniform'),\n",
              "             iid='deprecated', n_jobs=None,\n",
              "             param_grid={'leaf_size': array([ 1,  2,  3,  4,  5,  6,  7,  8,  9, 10, 11, 12, 13, 14, 15, 16, 17,\n",
              "       18, 19, 20, 21, 22, 23, 24, 25, 26, 27, 28, 29, 30, 31, 32, 33, 34,\n",
              "       35, 36, 37, 38, 39, 40, 41, 42, 43, 44, 45, 46, 47, 48, 49]),\n",
              "                         'n_neighbors': array([ 1,  2,  3,  4,  5,  6,  7,  8,  9, 10, 11, 12, 13, 14, 15, 16, 17,\n",
              "       18, 19, 20, 21, 22, 23, 24, 25, 26, 27, 28, 29]),\n",
              "                         'p': [1, 2]},\n",
              "             pre_dispatch='2*n_jobs', refit=True, return_train_score=False,\n",
              "             scoring=None, verbose=0)"
            ]
          },
          "metadata": {},
          "execution_count": 339
        }
      ]
    },
    {
      "cell_type": "code",
      "metadata": {
        "id": "BJgURjOr-0Yh",
        "colab": {
          "base_uri": "https://localhost:8080/"
        },
        "outputId": "acd32dd3-ccdc-476a-cc95-fb0b0c3846b7"
      },
      "source": [
        "print(\"En iyi skor:\" + str(knn_cv.best_score_))\n",
        "print(\"En iyi parametreler: \" + str(knn_cv.best_params_))"
      ],
      "execution_count": null,
      "outputs": [
        {
          "output_type": "stream",
          "name": "stdout",
          "text": [
            "En iyi skor:0.648611111111111\n",
            "En iyi parametreler: {'leaf_size': 40, 'n_neighbors': 24, 'p': 1}\n"
          ]
        }
      ]
    },
    {
      "cell_type": "code",
      "metadata": {
        "id": "GT5b9jpY-0Yh"
      },
      "source": [
        "knn = KNeighborsClassifier(leaf_size = 40 , n_neighbors=24, p =1)\n",
        "knn_tuned = knn.fit(X_train, y_train)"
      ],
      "execution_count": null,
      "outputs": []
    },
    {
      "cell_type": "code",
      "metadata": {
        "id": "CAYldtsT-0Yh",
        "colab": {
          "base_uri": "https://localhost:8080/"
        },
        "outputId": "aa7c8eee-7eed-48db-db2a-d6fc49d54786"
      },
      "source": [
        "knn_tuned.score(X_test, y_test)"
      ],
      "execution_count": null,
      "outputs": [
        {
          "output_type": "execute_result",
          "data": {
            "text/plain": [
              "0.5263157894736842"
            ]
          },
          "metadata": {},
          "execution_count": 342
        }
      ]
    },
    {
      "cell_type": "code",
      "metadata": {
        "id": "GgNS5ZW7-0Yh"
      },
      "source": [
        "y_pred = knn_tuned.predict(X_test)"
      ],
      "execution_count": null,
      "outputs": []
    },
    {
      "cell_type": "code",
      "metadata": {
        "id": "PHWD6kK0-0Yh",
        "colab": {
          "base_uri": "https://localhost:8080/"
        },
        "outputId": "699cd024-806c-4e0e-e513-c51696ed51bf"
      },
      "source": [
        "accuracy_score(y_test, y_pred)"
      ],
      "execution_count": null,
      "outputs": [
        {
          "output_type": "execute_result",
          "data": {
            "text/plain": [
              "0.5263157894736842"
            ]
          },
          "metadata": {},
          "execution_count": 344
        }
      ]
    },
    {
      "cell_type": "markdown",
      "metadata": {
        "id": "Eafnrs3bNTEY"
      },
      "source": [
        "# **SVC**"
      ]
    },
    {
      "cell_type": "markdown",
      "metadata": {
        "id": "eyQso3cSNUNv"
      },
      "source": [
        "**Model & FORECAST**"
      ]
    },
    {
      "cell_type": "code",
      "metadata": {
        "id": "543IsRqBMuCo"
      },
      "source": [
        "y = df[\"Y\"]\n",
        "X = df.drop([\"Y\"], axis=1)\n",
        "X_train, X_test, y_train, y_test = train_test_split(X, y, \n",
        "                                                    test_size=0.30, \n",
        "                                                    random_state=42)"
      ],
      "execution_count": null,
      "outputs": []
    },
    {
      "cell_type": "code",
      "metadata": {
        "id": "CcbRIzwT-0Yi"
      },
      "source": [
        "svm_model = SVC(kernel = \"linear\").fit(X_train, y_train)"
      ],
      "execution_count": null,
      "outputs": []
    },
    {
      "cell_type": "code",
      "metadata": {
        "id": "vIe5ye7V-0Yi",
        "colab": {
          "base_uri": "https://localhost:8080/"
        },
        "outputId": "1bcdb836-235e-4b14-aeaf-50cb94bf2a86"
      },
      "source": [
        "svm_model"
      ],
      "execution_count": null,
      "outputs": [
        {
          "output_type": "execute_result",
          "data": {
            "text/plain": [
              "SVC(C=1.0, break_ties=False, cache_size=200, class_weight=None, coef0=0.0,\n",
              "    decision_function_shape='ovr', degree=3, gamma='scale', kernel='linear',\n",
              "    max_iter=-1, probability=False, random_state=None, shrinking=True,\n",
              "    tol=0.001, verbose=False)"
            ]
          },
          "metadata": {},
          "execution_count": 347
        }
      ]
    },
    {
      "cell_type": "code",
      "metadata": {
        "id": "dvv7-4wJ-0Yi"
      },
      "source": [
        "y_pred = svm_model.predict(X_test)"
      ],
      "execution_count": null,
      "outputs": []
    },
    {
      "cell_type": "code",
      "metadata": {
        "id": "J1D0gObs-0Yi",
        "colab": {
          "base_uri": "https://localhost:8080/"
        },
        "outputId": "00bc48eb-d8f8-4cc6-fab8-9b8661400fa8"
      },
      "source": [
        "accuracy_score(y_test, y_pred)"
      ],
      "execution_count": null,
      "outputs": [
        {
          "output_type": "execute_result",
          "data": {
            "text/plain": [
              "0.5526315789473685"
            ]
          },
          "metadata": {},
          "execution_count": 349
        }
      ]
    },
    {
      "cell_type": "markdown",
      "metadata": {
        "id": "MFZ08MbYNhMd"
      },
      "source": [
        "**Model Tuning**"
      ]
    },
    {
      "cell_type": "code",
      "metadata": {
        "colab": {
          "base_uri": "https://localhost:8080/"
        },
        "id": "KAmfT96xMuAW",
        "outputId": "97e9161c-f961-44fb-94f5-43a56f0cd451"
      },
      "source": [
        "svc_params = {\"C\": np.arange(1,10)}\n",
        "\n",
        "svc = SVC(kernel =  'linear')\n",
        "\n",
        "svc_cv_model = GridSearchCV(svc,svc_params, \n",
        "                            cv = 3 , \n",
        "                            n_jobs = -1, \n",
        "                            verbose = 2 )\n",
        "\n",
        "svc_cv_model.fit(X_train, y_train)"
      ],
      "execution_count": null,
      "outputs": [
        {
          "output_type": "stream",
          "name": "stdout",
          "text": [
            "Fitting 3 folds for each of 9 candidates, totalling 27 fits\n"
          ]
        },
        {
          "output_type": "stream",
          "name": "stderr",
          "text": [
            "[Parallel(n_jobs=-1)]: Using backend LokyBackend with 2 concurrent workers.\n",
            "[Parallel(n_jobs=-1)]: Done  24 out of  27 | elapsed:    1.6s remaining:    0.2s\n",
            "[Parallel(n_jobs=-1)]: Done  27 out of  27 | elapsed:    1.6s finished\n"
          ]
        },
        {
          "output_type": "execute_result",
          "data": {
            "text/plain": [
              "GridSearchCV(cv=3, error_score=nan,\n",
              "             estimator=SVC(C=1.0, break_ties=False, cache_size=200,\n",
              "                           class_weight=None, coef0=0.0,\n",
              "                           decision_function_shape='ovr', degree=3,\n",
              "                           gamma='scale', kernel='linear', max_iter=-1,\n",
              "                           probability=False, random_state=None, shrinking=True,\n",
              "                           tol=0.001, verbose=False),\n",
              "             iid='deprecated', n_jobs=-1,\n",
              "             param_grid={'C': array([1, 2, 3, 4, 5, 6, 7, 8, 9])},\n",
              "             pre_dispatch='2*n_jobs', refit=True, return_train_score=False,\n",
              "             scoring=None, verbose=2)"
            ]
          },
          "metadata": {},
          "execution_count": 350
        }
      ]
    },
    {
      "cell_type": "code",
      "metadata": {
        "colab": {
          "base_uri": "https://localhost:8080/"
        },
        "id": "vIFLWj_6Mt-I",
        "outputId": "0e2bbaf5-aceb-49ae-dac6-683a5876f375"
      },
      "source": [
        "print(\"En iyi parametreler: \" + str(svc_cv_model.best_params_))"
      ],
      "execution_count": null,
      "outputs": [
        {
          "output_type": "stream",
          "name": "stdout",
          "text": [
            "En iyi parametreler: {'C': 2}\n"
          ]
        }
      ]
    },
    {
      "cell_type": "code",
      "metadata": {
        "id": "UWsK0UI2Mt71"
      },
      "source": [
        "svc_tuned = SVC(kernel = 'linear', C = 1).fit(X_train, y_train)"
      ],
      "execution_count": null,
      "outputs": []
    },
    {
      "cell_type": "code",
      "metadata": {
        "colab": {
          "base_uri": "https://localhost:8080/"
        },
        "id": "O7de8ByPMt0C",
        "outputId": "60f7f16c-f0de-4465-db85-860a6e39ebdf"
      },
      "source": [
        "y_pred = svc_tuned.predict(X_test)\n",
        "accuracy_score(y_test, y_pred)"
      ],
      "execution_count": null,
      "outputs": [
        {
          "output_type": "execute_result",
          "data": {
            "text/plain": [
              "0.5526315789473685"
            ]
          },
          "metadata": {},
          "execution_count": 353
        }
      ]
    },
    {
      "cell_type": "markdown",
      "metadata": {
        "id": "OGF0dqruN1J1"
      },
      "source": [
        "# **RBF SVC**"
      ]
    },
    {
      "cell_type": "markdown",
      "metadata": {
        "id": "G_BypGD1N8o1"
      },
      "source": [
        "## **Model & FORECAST**"
      ]
    },
    {
      "cell_type": "code",
      "metadata": {
        "id": "n6-JRd9mMtoQ"
      },
      "source": [
        "y = df[\"Y\"]\n",
        "X = df.drop([\"Y\"], axis=1)\n",
        "X_train, X_test, y_train, y_test = train_test_split(X, y, \n",
        "                                                    test_size=0.30, \n",
        "                                                    random_state=42)"
      ],
      "execution_count": null,
      "outputs": []
    },
    {
      "cell_type": "code",
      "metadata": {
        "id": "FSZrMjWNMtmQ"
      },
      "source": [
        "svc_model = SVC(kernel = \"rbf\").fit(X_train, y_train)"
      ],
      "execution_count": null,
      "outputs": []
    },
    {
      "cell_type": "code",
      "metadata": {
        "colab": {
          "base_uri": "https://localhost:8080/"
        },
        "id": "muVzHgUFOBKb",
        "outputId": "a60c3c23-1bc8-48c0-8645-596037cbc2e1"
      },
      "source": [
        "svc_model"
      ],
      "execution_count": null,
      "outputs": [
        {
          "output_type": "execute_result",
          "data": {
            "text/plain": [
              "SVC(C=1.0, break_ties=False, cache_size=200, class_weight=None, coef0=0.0,\n",
              "    decision_function_shape='ovr', degree=3, gamma='scale', kernel='rbf',\n",
              "    max_iter=-1, probability=False, random_state=None, shrinking=True,\n",
              "    tol=0.001, verbose=False)"
            ]
          },
          "metadata": {},
          "execution_count": 356
        }
      ]
    },
    {
      "cell_type": "code",
      "metadata": {
        "colab": {
          "base_uri": "https://localhost:8080/"
        },
        "id": "c3DXOYflOB10",
        "outputId": "31c0c25c-cede-4c25-c1b8-d2d079e92835"
      },
      "source": [
        "y_pred = svc_model.predict(X_test)\n",
        "accuracy_score(y_test, y_pred)"
      ],
      "execution_count": null,
      "outputs": [
        {
          "output_type": "execute_result",
          "data": {
            "text/plain": [
              "0.5"
            ]
          },
          "metadata": {},
          "execution_count": 357
        }
      ]
    },
    {
      "cell_type": "markdown",
      "metadata": {
        "id": "3_eC-ponODjf"
      },
      "source": [
        "**Model Tuning**"
      ]
    },
    {
      "cell_type": "code",
      "metadata": {
        "id": "lqh_ocxwODAE"
      },
      "source": [
        "svc_params = {\"C\": [0.0001, 0.001, 0.1, 1, 5, 10 ,50 ,100],\n",
        "             \"gamma\": [0.0001, 0.001, 0.1, 1, 5, 10 ,50 ,100]}"
      ],
      "execution_count": null,
      "outputs": []
    },
    {
      "cell_type": "code",
      "metadata": {
        "colab": {
          "base_uri": "https://localhost:8080/"
        },
        "id": "rOOokPw6OL1T",
        "outputId": "367c9e6a-41af-4ac7-ea30-564b7fec2ba1"
      },
      "source": [
        "svc = SVC()\n",
        "svc_cv_model = GridSearchCV(svc, svc_params, \n",
        "                         cv = 8, \n",
        "                         n_jobs = -1,\n",
        "                         verbose = 2)\n",
        "\n",
        "svc_cv_model.fit(X_train, y_train)"
      ],
      "execution_count": null,
      "outputs": [
        {
          "output_type": "stream",
          "name": "stderr",
          "text": [
            "[Parallel(n_jobs=-1)]: Using backend LokyBackend with 2 concurrent workers.\n"
          ]
        },
        {
          "output_type": "stream",
          "name": "stdout",
          "text": [
            "Fitting 8 folds for each of 64 candidates, totalling 512 fits\n"
          ]
        },
        {
          "output_type": "stream",
          "name": "stderr",
          "text": [
            "[Parallel(n_jobs=-1)]: Done 512 out of 512 | elapsed:    2.0s finished\n"
          ]
        },
        {
          "output_type": "execute_result",
          "data": {
            "text/plain": [
              "GridSearchCV(cv=8, error_score=nan,\n",
              "             estimator=SVC(C=1.0, break_ties=False, cache_size=200,\n",
              "                           class_weight=None, coef0=0.0,\n",
              "                           decision_function_shape='ovr', degree=3,\n",
              "                           gamma='scale', kernel='rbf', max_iter=-1,\n",
              "                           probability=False, random_state=None, shrinking=True,\n",
              "                           tol=0.001, verbose=False),\n",
              "             iid='deprecated', n_jobs=-1,\n",
              "             param_grid={'C': [0.0001, 0.001, 0.1, 1, 5, 10, 50, 100],\n",
              "                         'gamma': [0.0001, 0.001, 0.1, 1, 5, 10, 50, 100]},\n",
              "             pre_dispatch='2*n_jobs', refit=True, return_train_score=False,\n",
              "             scoring=None, verbose=2)"
            ]
          },
          "metadata": {},
          "execution_count": 359
        }
      ]
    },
    {
      "cell_type": "code",
      "metadata": {
        "colab": {
          "base_uri": "https://localhost:8080/"
        },
        "id": "JTt9JLpSOL0C",
        "outputId": "285c60d0-f84f-4e93-e8ae-e537b87794f1"
      },
      "source": [
        "print(\"En iyi parametreler: \" + str(svc_cv_model.best_params_))"
      ],
      "execution_count": null,
      "outputs": [
        {
          "output_type": "stream",
          "name": "stdout",
          "text": [
            "En iyi parametreler: {'C': 50, 'gamma': 0.001}\n"
          ]
        }
      ]
    },
    {
      "cell_type": "code",
      "metadata": {
        "id": "qitpO9vkOLx_"
      },
      "source": [
        "svc_tuned = SVC(C = 50, gamma = 0.001).fit(X_train, y_train)"
      ],
      "execution_count": null,
      "outputs": []
    },
    {
      "cell_type": "code",
      "metadata": {
        "colab": {
          "base_uri": "https://localhost:8080/"
        },
        "id": "9JJZY_t7OLue",
        "outputId": "6b0a59e6-46bd-49eb-e5af-d0e0feed6fcb"
      },
      "source": [
        "y_pred = svc_tuned.predict(X_test)\n",
        "accuracy_score(y_test, y_pred)"
      ],
      "execution_count": null,
      "outputs": [
        {
          "output_type": "execute_result",
          "data": {
            "text/plain": [
              "0.5263157894736842"
            ]
          },
          "metadata": {},
          "execution_count": 362
        }
      ]
    },
    {
      "cell_type": "markdown",
      "metadata": {
        "id": "8hCqeCzkORqa"
      },
      "source": [
        "# **NEURAL NETWORKS**"
      ]
    },
    {
      "cell_type": "markdown",
      "metadata": {
        "id": "V80iqYR1OZum"
      },
      "source": [
        "**Model & FORECAST**"
      ]
    },
    {
      "cell_type": "code",
      "metadata": {
        "id": "gPQVoiGDOLsG"
      },
      "source": [
        "y = df[\"Y\"]\n",
        "X = df.drop([\"Y\"], axis=1)\n",
        "X_train, X_test, y_train, y_test = train_test_split(X, y, \n",
        "                                                    test_size=0.30, \n",
        "                                                    random_state=42)"
      ],
      "execution_count": null,
      "outputs": []
    },
    {
      "cell_type": "code",
      "metadata": {
        "id": "DOYbK7bhOLqT"
      },
      "source": [
        "from sklearn.preprocessing import StandardScaler  "
      ],
      "execution_count": null,
      "outputs": []
    },
    {
      "cell_type": "code",
      "metadata": {
        "id": "NbDnBkX3Oifc"
      },
      "source": [
        "scaler = StandardScaler()"
      ],
      "execution_count": null,
      "outputs": []
    },
    {
      "cell_type": "code",
      "metadata": {
        "id": "Vo4TkpKnOjO8"
      },
      "source": [
        "scaler.fit(X_train)\n",
        "X_train_scaled = scaler.transform(X_train)\n",
        "X_test_scaled = scaler.transform(X_test)"
      ],
      "execution_count": null,
      "outputs": []
    },
    {
      "cell_type": "code",
      "metadata": {
        "colab": {
          "base_uri": "https://localhost:8080/"
        },
        "id": "m2fJhpsbOkFE",
        "outputId": "7307d9cc-fb38-46f8-982b-33c9bd2c2a38"
      },
      "source": [
        "X_test_scaled[0:5]"
      ],
      "execution_count": null,
      "outputs": [
        {
          "output_type": "execute_result",
          "data": {
            "text/plain": [
              "array([[ 0.84148188, -0.54184542, -0.4044959 , -0.7881639 , -1.54876438,\n",
              "         0.97713533],\n",
              "       [-0.55569558, -0.54184542,  0.61252237,  0.33052034,  0.24454174,\n",
              "        -0.25126337],\n",
              "       [-1.95287305,  1.22416928,  0.61252237,  1.44920458, -2.44541744,\n",
              "        -1.47966207],\n",
              "       [-0.55569558, -1.42485276, -2.43853245, -0.7881639 ,  0.24454174,\n",
              "        -0.25126337],\n",
              "       [-1.95287305, -1.42485276, -0.4044959 , -1.90684814, -2.44541744,\n",
              "        -2.70806077]])"
            ]
          },
          "metadata": {},
          "execution_count": 383
        }
      ]
    },
    {
      "cell_type": "code",
      "metadata": {
        "id": "OjamjwnQOk1U"
      },
      "source": [
        "from sklearn.neural_network import MLPClassifier"
      ],
      "execution_count": null,
      "outputs": []
    },
    {
      "cell_type": "code",
      "metadata": {
        "id": "AiAZi5ReOl50"
      },
      "source": [
        "mlpc = MLPClassifier( ).fit(X_train_scaled, y_train)"
      ],
      "execution_count": null,
      "outputs": []
    },
    {
      "cell_type": "code",
      "metadata": {
        "colab": {
          "base_uri": "https://localhost:8080/"
        },
        "id": "cw7bS3LgOmmE",
        "outputId": "8cb0b7c4-0514-4cd6-aa5b-341c2bae673a"
      },
      "source": [
        "y_pred = mlpc.predict(X_test_scaled)\n",
        "accuracy_score(y_test, y_pred)"
      ],
      "execution_count": null,
      "outputs": [
        {
          "output_type": "execute_result",
          "data": {
            "text/plain": [
              "0.6052631578947368"
            ]
          },
          "metadata": {},
          "execution_count": 385
        }
      ]
    },
    {
      "cell_type": "markdown",
      "metadata": {
        "id": "FTrB4L5xOo0G"
      },
      "source": [
        " **Model Tuning**"
      ]
    },
    {
      "cell_type": "code",
      "metadata": {
        "colab": {
          "base_uri": "https://localhost:8080/"
        },
        "id": "IDOQyh0VOnR0",
        "outputId": "897b7635-e43e-4ec2-ef5f-ec40a46d4fa6"
      },
      "source": [
        "mlpc"
      ],
      "execution_count": null,
      "outputs": [
        {
          "output_type": "execute_result",
          "data": {
            "text/plain": [
              "MLPClassifier(activation='relu', alpha=0.0001, batch_size='auto', beta_1=0.9,\n",
              "              beta_2=0.999, early_stopping=False, epsilon=1e-08,\n",
              "              hidden_layer_sizes=(100,), learning_rate='constant',\n",
              "              learning_rate_init=0.001, max_fun=15000, max_iter=200,\n",
              "              momentum=0.9, n_iter_no_change=10, nesterovs_momentum=True,\n",
              "              power_t=0.5, random_state=None, shuffle=True, solver='adam',\n",
              "              tol=0.0001, validation_fraction=0.1, verbose=False,\n",
              "              warm_start=False)"
            ]
          },
          "metadata": {},
          "execution_count": 83
        }
      ]
    },
    {
      "cell_type": "code",
      "metadata": {
        "id": "NUwXwD6vOsTc"
      },
      "source": [
        "mlpc_params = {\"alpha\": [0.1, 0.01, 0.02, 0.05, 0.005, 0.0001,0.00001],\n",
        "              \"hidden_layer_sizes\": [(50,50,50),\n",
        "                                     (50,100,50), \n",
        "                                     (100,), \n",
        "                                     (10,10,10),\n",
        "                                     (100,100,100),\n",
        "                                     (100,100),\n",
        "                                     (3,5), \n",
        "                                     (5, 3)],\n",
        "              \"solver\" : [\"lbfgs\",\"adam\",\"sgd\"],\n",
        "              \"activation\": [\"relu\",\"logistic\",'tanh', 'relu']}"
      ],
      "execution_count": null,
      "outputs": []
    },
    {
      "cell_type": "code",
      "metadata": {
        "colab": {
          "base_uri": "https://localhost:8080/"
        },
        "id": "QCtf3x8tOtwk",
        "outputId": "8d39c1ee-3a75-46b4-c700-c9c75708285f"
      },
      "source": [
        "mlpc = MLPClassifier()\n",
        "mlpc_cv_model = GridSearchCV(mlpc, mlpc_params, \n",
        "                         cv = 10, \n",
        "                         n_jobs = -1,\n",
        "                         verbose = 2)\n",
        "\n",
        "mlpc_cv_model.fit(X_train_scaled, y_train)"
      ],
      "execution_count": null,
      "outputs": [
        {
          "output_type": "stream",
          "name": "stdout",
          "text": [
            "Fitting 10 folds for each of 672 candidates, totalling 6720 fits\n"
          ]
        },
        {
          "output_type": "stream",
          "name": "stderr",
          "text": [
            "[Parallel(n_jobs=-1)]: Using backend LokyBackend with 2 concurrent workers.\n",
            "[Parallel(n_jobs=-1)]: Done  37 tasks      | elapsed:   10.9s\n",
            "[Parallel(n_jobs=-1)]: Done 158 tasks      | elapsed:   39.8s\n",
            "[Parallel(n_jobs=-1)]: Done 361 tasks      | elapsed:  1.2min\n",
            "[Parallel(n_jobs=-1)]: Done 644 tasks      | elapsed:  2.3min\n",
            "[Parallel(n_jobs=-1)]: Done 1009 tasks      | elapsed:  3.5min\n",
            "[Parallel(n_jobs=-1)]: Done 1454 tasks      | elapsed:  4.7min\n",
            "[Parallel(n_jobs=-1)]: Done 2140 tasks      | elapsed:  6.2min\n",
            "[Parallel(n_jobs=-1)]: Done 3046 tasks      | elapsed:  8.3min\n",
            "[Parallel(n_jobs=-1)]: Done 3861 tasks      | elapsed: 10.6min\n",
            "[Parallel(n_jobs=-1)]: Done 4630 tasks      | elapsed: 13.3min\n",
            "[Parallel(n_jobs=-1)]: Done 5481 tasks      | elapsed: 15.8min\n",
            "[Parallel(n_jobs=-1)]: Done 6412 tasks      | elapsed: 18.6min\n",
            "[Parallel(n_jobs=-1)]: Done 6720 out of 6720 | elapsed: 19.3min finished\n"
          ]
        },
        {
          "output_type": "execute_result",
          "data": {
            "text/plain": [
              "GridSearchCV(cv=10, error_score=nan,\n",
              "             estimator=MLPClassifier(activation='relu', alpha=0.0001,\n",
              "                                     batch_size='auto', beta_1=0.9,\n",
              "                                     beta_2=0.999, early_stopping=False,\n",
              "                                     epsilon=1e-08, hidden_layer_sizes=(100,),\n",
              "                                     learning_rate='constant',\n",
              "                                     learning_rate_init=0.001, max_fun=15000,\n",
              "                                     max_iter=200, momentum=0.9,\n",
              "                                     n_iter_no_change=10,\n",
              "                                     nesterovs_momentum=True, power_t=0.5,\n",
              "                                     random_stat...\n",
              "             iid='deprecated', n_jobs=-1,\n",
              "             param_grid={'activation': ['relu', 'logistic', 'tanh', 'relu'],\n",
              "                         'alpha': [0.1, 0.01, 0.02, 0.05, 0.005, 0.0001, 1e-05],\n",
              "                         'hidden_layer_sizes': [(50, 50, 50), (50, 100, 50),\n",
              "                                                (100,), (10, 10, 10),\n",
              "                                                (100, 100, 100), (100, 100),\n",
              "                                                (3, 5), (5, 3)],\n",
              "                         'solver': ['lbfgs', 'adam', 'sgd']},\n",
              "             pre_dispatch='2*n_jobs', refit=True, return_train_score=False,\n",
              "             scoring=None, verbose=2)"
            ]
          },
          "metadata": {},
          "execution_count": 415
        }
      ]
    },
    {
      "cell_type": "code",
      "metadata": {
        "colab": {
          "base_uri": "https://localhost:8080/"
        },
        "id": "88y38HqcO5h8",
        "outputId": "f20d4c11-bcad-4fd8-ea0c-a153241ce4df"
      },
      "source": [
        "print(\"En iyi parametreler: \" + str(mlpc_cv_model.best_params_))"
      ],
      "execution_count": null,
      "outputs": [
        {
          "output_type": "stream",
          "name": "stdout",
          "text": [
            "En iyi parametreler: {'activation': 'relu', 'alpha': 1e-05, 'hidden_layer_sizes': (50, 100, 50), 'solver': 'sgd'}\n"
          ]
        }
      ]
    },
    {
      "cell_type": "code",
      "metadata": {
        "id": "qAkeoiLxQPEe"
      },
      "source": [
        "mlpc_tuned = MLPClassifier(activation = \"relu\", \n",
        "                           alpha =  0.00001, \n",
        "                           hidden_layer_sizes = (50, 100, 50),\n",
        "                          solver = 'sgd')"
      ],
      "execution_count": null,
      "outputs": []
    },
    {
      "cell_type": "code",
      "metadata": {
        "colab": {
          "base_uri": "https://localhost:8080/"
        },
        "id": "VlMXDE6AQPCh",
        "outputId": "a602352e-4409-4e5d-f3b0-90383c1297ac"
      },
      "source": [
        "mlpc_tuned.fit(X_train_scaled, y_train)"
      ],
      "execution_count": null,
      "outputs": [
        {
          "output_type": "execute_result",
          "data": {
            "text/plain": [
              "MLPClassifier(activation='relu', alpha=1e-05, batch_size='auto', beta_1=0.9,\n",
              "              beta_2=0.999, early_stopping=False, epsilon=1e-08,\n",
              "              hidden_layer_sizes=(50, 100, 50), learning_rate='constant',\n",
              "              learning_rate_init=0.001, max_fun=15000, max_iter=200,\n",
              "              momentum=0.9, n_iter_no_change=10, nesterovs_momentum=True,\n",
              "              power_t=0.5, random_state=None, shuffle=True, solver='sgd',\n",
              "              tol=0.0001, validation_fraction=0.1, verbose=False,\n",
              "              warm_start=False)"
            ]
          },
          "metadata": {},
          "execution_count": 418
        }
      ]
    },
    {
      "cell_type": "code",
      "metadata": {
        "colab": {
          "base_uri": "https://localhost:8080/"
        },
        "id": "pI49OS_JQO9_",
        "outputId": "3b7cac53-bffa-4cf7-ddf3-c2fc794fd506"
      },
      "source": [
        "y_pred = mlpc_tuned.predict(X_test_scaled)\n",
        "accuracy_score(y_test, y_pred)"
      ],
      "execution_count": null,
      "outputs": [
        {
          "output_type": "execute_result",
          "data": {
            "text/plain": [
              "0.5263157894736842"
            ]
          },
          "metadata": {},
          "execution_count": 419
        }
      ]
    },
    {
      "cell_type": "markdown",
      "metadata": {
        "id": "HmPtIXNSQtC_"
      },
      "source": [
        "# **CART**"
      ]
    },
    {
      "cell_type": "markdown",
      "metadata": {
        "id": "sMxvkxryQuIj"
      },
      "source": [
        "**Model & FORECAST**"
      ]
    },
    {
      "cell_type": "code",
      "metadata": {
        "id": "lr-QmjNaQO7h"
      },
      "source": [
        "y = df[\"Y\"]\n",
        "X = df.drop([\"Y\"], axis=1)\n",
        "X_train, X_test, y_train, y_test = train_test_split(X, y, \n",
        "                                                    test_size=0.30, \n",
        "                                                    random_state=42)"
      ],
      "execution_count": null,
      "outputs": []
    },
    {
      "cell_type": "code",
      "metadata": {
        "id": "50M5FCt2-0Yp"
      },
      "source": [
        "from sklearn.tree import DecisionTreeClassifier"
      ],
      "execution_count": null,
      "outputs": []
    },
    {
      "cell_type": "code",
      "metadata": {
        "id": "iSI5NyAD-0Yp"
      },
      "source": [
        "cart = DecisionTreeClassifier()\n",
        "cart_model = cart.fit(X_train, y_train)"
      ],
      "execution_count": null,
      "outputs": []
    },
    {
      "cell_type": "code",
      "metadata": {
        "id": "Mqj5sPEv-0Yp",
        "colab": {
          "base_uri": "https://localhost:8080/"
        },
        "outputId": "6b2ff95e-ee72-405c-f082-3c43cfd24f1c"
      },
      "source": [
        "cart_model"
      ],
      "execution_count": null,
      "outputs": [
        {
          "output_type": "execute_result",
          "data": {
            "text/plain": [
              "DecisionTreeClassifier(ccp_alpha=0.0, class_weight=None, criterion='gini',\n",
              "                       max_depth=None, max_features=None, max_leaf_nodes=None,\n",
              "                       min_impurity_decrease=0.0, min_impurity_split=None,\n",
              "                       min_samples_leaf=1, min_samples_split=2,\n",
              "                       min_weight_fraction_leaf=0.0, presort='deprecated',\n",
              "                       random_state=None, splitter='best')"
            ]
          },
          "metadata": {},
          "execution_count": 409
        }
      ]
    },
    {
      "cell_type": "code",
      "metadata": {
        "id": "EdGKwlux-0Yp",
        "colab": {
          "base_uri": "https://localhost:8080/"
        },
        "outputId": "be528b8a-7fcd-4979-9403-4e8028db9227"
      },
      "source": [
        "!pip install skompiler"
      ],
      "execution_count": null,
      "outputs": [
        {
          "output_type": "stream",
          "name": "stdout",
          "text": [
            "Collecting skompiler\n",
            "  Downloading SKompiler-0.6.tar.gz (45 kB)\n",
            "\u001b[?25l\r\u001b[K     |███████▎                        | 10 kB 17.6 MB/s eta 0:00:01\r\u001b[K     |██████████████▌                 | 20 kB 12.4 MB/s eta 0:00:01\r\u001b[K     |█████████████████████▊          | 30 kB 9.1 MB/s eta 0:00:01\r\u001b[K     |█████████████████████████████   | 40 kB 8.0 MB/s eta 0:00:01\r\u001b[K     |████████████████████████████████| 45 kB 1.5 MB/s \n",
            "\u001b[?25hRequirement already satisfied: scikit-learn>=0.22 in /usr/local/lib/python3.7/dist-packages (from skompiler) (0.22.2.post1)\n",
            "Requirement already satisfied: numpy>=1.11.0 in /usr/local/lib/python3.7/dist-packages (from scikit-learn>=0.22->skompiler) (1.19.5)\n",
            "Requirement already satisfied: scipy>=0.17.0 in /usr/local/lib/python3.7/dist-packages (from scikit-learn>=0.22->skompiler) (1.4.1)\n",
            "Requirement already satisfied: joblib>=0.11 in /usr/local/lib/python3.7/dist-packages (from scikit-learn>=0.22->skompiler) (1.0.1)\n",
            "Building wheels for collected packages: skompiler\n",
            "  Building wheel for skompiler (setup.py) ... \u001b[?25l\u001b[?25hdone\n",
            "  Created wheel for skompiler: filename=SKompiler-0.6-py3-none-any.whl size=54287 sha256=d29b780cd1272d990c2f3c4086dc76d4ece25a22c1620410b98b17b6d4d47442\n",
            "  Stored in directory: /root/.cache/pip/wheels/47/1c/59/b80a730f4afd2144bad854df4b167b812486c9d4c1bd4cf4c5\n",
            "Successfully built skompiler\n",
            "Installing collected packages: skompiler\n",
            "Successfully installed skompiler-0.6\n"
          ]
        }
      ]
    },
    {
      "cell_type": "code",
      "metadata": {
        "colab": {
          "base_uri": "https://localhost:8080/"
        },
        "id": "j9NbGaNZQ5AZ",
        "outputId": "6e08ded6-6a16-48e8-f09b-201b62218d66"
      },
      "source": [
        "from skompiler import skompile\n",
        "print(skompile(cart_model.predict).to(\"python/code\"))"
      ],
      "execution_count": null,
      "outputs": [
        {
          "output_type": "stream",
          "name": "stdout",
          "text": [
            "(((0 if x[0] <= 3.5 else (0 if x[4] <= 2.0 else 1) if x[4] <= 3.5 else 0) if\n",
            "    x[5] <= 3.5 else ((1 if x[4] <= 2.5 else 1 if x[2] <= 2.0 else 0 if x[4\n",
            "    ] <= 3.5 else 0 if x[0] <= 3.5 else 0) if x[3] <= 3.5 else (0 if x[0] <=\n",
            "    3.5 else (0 if x[1] <= 3.5 else 1) if x[4] <= 2.5 else 1) if x[2] <= \n",
            "    3.5 else 1 if x[0] <= 3.5 else 0 if x[4] <= 2.5 else 0 if x[1] <= 1.5 else\n",
            "    (0 if x[1] <= 2.5 else 1) if x[1] <= 3.5 else 0) if x[4] <= 4.5 else 0) if\n",
            "    x[0] <= 4.5 else (1 if x[1] <= 2.5 else 1 if x[2] <= 2.5 else (0 if x[5\n",
            "    ] <= 3.5 else 0) if x[2] <= 3.5 else 1) if x[5] <= 4.5 else (0 if x[4] <=\n",
            "    4.5 else 1 if x[3] <= 4.5 else 0) if x[2] <= 2.5 else 0 if x[3] <= 2.5 else\n",
            "    (1 if x[4] <= 2.5 else (0 if x[1] <= 2.5 else 1 if x[1] <= 3.5 else 0) if\n",
            "    x[4] <= 3.5 else (((0 if x[1] <= 2.5 else 1) if x[2] <= 3.5 else 1) if \n",
            "    x[3] <= 3.5 else 1 if x[2] <= 3.5 else 0 if x[1] <= 1.5 else (1 if x[3] <=\n",
            "    4.5 else 1) if x[1] <= 2.5 else 0 if x[2] <= 4.5 else 1 if x[4] <= 4.5 else\n",
            "    0) if x[1] <= 3.5 else 1) if x[1] <= 4.5 else 1)\n",
            "\n"
          ]
        }
      ]
    },
    {
      "cell_type": "code",
      "metadata": {
        "id": "Ap8JKfKz-0Yp"
      },
      "source": [
        "x = [9]"
      ],
      "execution_count": null,
      "outputs": []
    },
    {
      "cell_type": "code",
      "metadata": {
        "id": "jvfcJ22T-0Yp",
        "colab": {
          "base_uri": "https://localhost:8080/"
        },
        "outputId": "9dd06b5b-b66b-42c5-e2b0-26166eccc905"
      },
      "source": [
        "((0 if x[0] <= 2.5 else 0) if x[0] <= 6.5 else 1 if x[0] <= 13.5 else 1)"
      ],
      "execution_count": null,
      "outputs": [
        {
          "output_type": "execute_result",
          "data": {
            "text/plain": [
              "1"
            ]
          },
          "metadata": {},
          "execution_count": 413
        }
      ]
    },
    {
      "cell_type": "code",
      "metadata": {
        "id": "XUy8YnEY-0Yp",
        "colab": {
          "base_uri": "https://localhost:8080/"
        },
        "outputId": "a42eed7f-f90c-4bc9-dca1-207d43bea5c5"
      },
      "source": [
        "y_pred = cart_model.predict(X_test)\n",
        "accuracy_score(y_test, y_pred)"
      ],
      "execution_count": null,
      "outputs": [
        {
          "output_type": "execute_result",
          "data": {
            "text/plain": [
              "0.47368421052631576"
            ]
          },
          "metadata": {},
          "execution_count": 414
        }
      ]
    },
    {
      "cell_type": "markdown",
      "metadata": {
        "id": "pd7vh0wMRCxh"
      },
      "source": [
        "**Model Tuning**"
      ]
    },
    {
      "cell_type": "code",
      "metadata": {
        "id": "KzXSCL76-0Yq",
        "colab": {
          "base_uri": "https://localhost:8080/"
        },
        "outputId": "50cc3f30-151d-4751-a4e2-1a00c952817d"
      },
      "source": [
        "cart_model"
      ],
      "execution_count": null,
      "outputs": [
        {
          "output_type": "execute_result",
          "data": {
            "text/plain": [
              "DecisionTreeClassifier(ccp_alpha=0.0, class_weight=None, criterion='gini',\n",
              "                       max_depth=None, max_features=None, max_leaf_nodes=None,\n",
              "                       min_impurity_decrease=0.0, min_impurity_split=None,\n",
              "                       min_samples_leaf=1, min_samples_split=2,\n",
              "                       min_weight_fraction_leaf=0.0, presort='deprecated',\n",
              "                       random_state=None, splitter='best')"
            ]
          },
          "metadata": {},
          "execution_count": 423
        }
      ]
    },
    {
      "cell_type": "code",
      "metadata": {
        "id": "xMMWHsXX-0Yq"
      },
      "source": [
        "cart_grid = {\"max_depth\": range(1,10),\n",
        "            \"min_samples_split\" : list(range(2,50)) }"
      ],
      "execution_count": null,
      "outputs": []
    },
    {
      "cell_type": "code",
      "metadata": {
        "id": "ZsttoDWY-0Yq",
        "colab": {
          "base_uri": "https://localhost:8080/"
        },
        "outputId": "b32ebb55-1a61-4242-9ec6-7eaf81488768"
      },
      "source": [
        "cart = tree.DecisionTreeClassifier()\n",
        "cart_cv = GridSearchCV(cart, cart_grid, cv = 10, n_jobs = -1, verbose = 2)\n",
        "cart_cv_model = cart_cv.fit(X_train, y_train)"
      ],
      "execution_count": null,
      "outputs": [
        {
          "output_type": "stream",
          "name": "stdout",
          "text": [
            "Fitting 10 folds for each of 432 candidates, totalling 4320 fits\n"
          ]
        },
        {
          "output_type": "stream",
          "name": "stderr",
          "text": [
            "[Parallel(n_jobs=-1)]: Using backend LokyBackend with 2 concurrent workers.\n",
            "[Parallel(n_jobs=-1)]: Done 234 tasks      | elapsed:    2.5s\n",
            "[Parallel(n_jobs=-1)]: Done 4106 tasks      | elapsed:   13.7s\n",
            "[Parallel(n_jobs=-1)]: Done 4320 out of 4320 | elapsed:   14.4s finished\n"
          ]
        }
      ]
    },
    {
      "cell_type": "code",
      "metadata": {
        "id": "bWtKo68s-0Yq",
        "colab": {
          "base_uri": "https://localhost:8080/"
        },
        "outputId": "347c6b80-c1e9-493e-dcd5-9ef906ac9f10"
      },
      "source": [
        "print(\"En iyi parametreler: \" + str(cart_cv_model.best_params_))"
      ],
      "execution_count": null,
      "outputs": [
        {
          "output_type": "stream",
          "name": "stdout",
          "text": [
            "En iyi parametreler: {'max_depth': 3, 'min_samples_split': 4}\n"
          ]
        }
      ]
    },
    {
      "cell_type": "code",
      "metadata": {
        "id": "apxZi4NB-0Yq"
      },
      "source": [
        "#final"
      ],
      "execution_count": null,
      "outputs": []
    },
    {
      "cell_type": "code",
      "metadata": {
        "id": "hjXo2LfT-0Yq"
      },
      "source": [
        "cart = tree.DecisionTreeClassifier(max_depth = 3, min_samples_split = 4)\n",
        "cart_tuned = cart.fit(X_train, y_train)"
      ],
      "execution_count": null,
      "outputs": []
    },
    {
      "cell_type": "code",
      "metadata": {
        "id": "BJCTKhkZ-0Yr",
        "colab": {
          "base_uri": "https://localhost:8080/"
        },
        "outputId": "5492bc14-546d-4332-f73a-1f4b434de79b"
      },
      "source": [
        "y_pred = cart_tuned.predict(X_test)\n",
        "accuracy_score(y_test, y_pred)"
      ],
      "execution_count": null,
      "outputs": [
        {
          "output_type": "execute_result",
          "data": {
            "text/plain": [
              "0.5789473684210527"
            ]
          },
          "metadata": {},
          "execution_count": 428
        }
      ]
    },
    {
      "cell_type": "markdown",
      "metadata": {
        "id": "egaNCnhxRU-9"
      },
      "source": [
        "# **Random Forests**"
      ]
    },
    {
      "cell_type": "markdown",
      "metadata": {
        "id": "_5K41afsRajN"
      },
      "source": [
        "**Model & FORECAST**"
      ]
    },
    {
      "cell_type": "code",
      "metadata": {
        "id": "EZaaoVz0QO2X"
      },
      "source": [
        "y = df[\"Y\"]\n",
        "X = df.drop([\"Y\"], axis=1)\n",
        "X_train, X_test, y_train, y_test = train_test_split(X, y, \n",
        "                                                    test_size=0.30, \n",
        "                                                    random_state=42)"
      ],
      "execution_count": null,
      "outputs": []
    },
    {
      "cell_type": "code",
      "metadata": {
        "id": "Z_f3_rXuRhlS"
      },
      "source": [
        "from sklearn.ensemble import RandomForestClassifier"
      ],
      "execution_count": null,
      "outputs": []
    },
    {
      "cell_type": "code",
      "metadata": {
        "id": "34b_veylRijD"
      },
      "source": [
        "rf_model = RandomForestClassifier().fit(X_train, y_train)"
      ],
      "execution_count": null,
      "outputs": []
    },
    {
      "cell_type": "code",
      "metadata": {
        "colab": {
          "base_uri": "https://localhost:8080/"
        },
        "id": "JMImv9VJRjRL",
        "outputId": "68799964-0b5b-43d2-da63-7d181c492921"
      },
      "source": [
        "rf_model"
      ],
      "execution_count": null,
      "outputs": [
        {
          "output_type": "execute_result",
          "data": {
            "text/plain": [
              "RandomForestClassifier(bootstrap=True, ccp_alpha=0.0, class_weight=None,\n",
              "                       criterion='gini', max_depth=None, max_features='auto',\n",
              "                       max_leaf_nodes=None, max_samples=None,\n",
              "                       min_impurity_decrease=0.0, min_impurity_split=None,\n",
              "                       min_samples_leaf=1, min_samples_split=2,\n",
              "                       min_weight_fraction_leaf=0.0, n_estimators=100,\n",
              "                       n_jobs=None, oob_score=False, random_state=None,\n",
              "                       verbose=0, warm_start=False)"
            ]
          },
          "metadata": {},
          "execution_count": 432
        }
      ]
    },
    {
      "cell_type": "code",
      "metadata": {
        "colab": {
          "base_uri": "https://localhost:8080/"
        },
        "id": "fPEEdemsRj0j",
        "outputId": "8bb1e982-234d-4cd5-9921-a294a574a41c"
      },
      "source": [
        "y_pred = rf_model.predict(X_test)\n",
        "accuracy_score(y_test, y_pred)"
      ],
      "execution_count": null,
      "outputs": [
        {
          "output_type": "execute_result",
          "data": {
            "text/plain": [
              "0.5789473684210527"
            ]
          },
          "metadata": {},
          "execution_count": 433
        }
      ]
    },
    {
      "cell_type": "markdown",
      "metadata": {
        "id": "VUVV4IlpRlzn"
      },
      "source": [
        "**Model Tuning**"
      ]
    },
    {
      "cell_type": "code",
      "metadata": {
        "colab": {
          "base_uri": "https://localhost:8080/"
        },
        "id": "Y7LUVE1lRkc7",
        "outputId": "8b5c9c99-e236-48a9-99df-7c09a6a028e2"
      },
      "source": [
        "rf_model"
      ],
      "execution_count": null,
      "outputs": [
        {
          "output_type": "execute_result",
          "data": {
            "text/plain": [
              "RandomForestClassifier(bootstrap=True, ccp_alpha=0.0, class_weight=None,\n",
              "                       criterion='gini', max_depth=None, max_features='auto',\n",
              "                       max_leaf_nodes=None, max_samples=None,\n",
              "                       min_impurity_decrease=0.0, min_impurity_split=None,\n",
              "                       min_samples_leaf=1, min_samples_split=2,\n",
              "                       min_weight_fraction_leaf=0.0, n_estimators=100,\n",
              "                       n_jobs=None, oob_score=False, random_state=None,\n",
              "                       verbose=0, warm_start=False)"
            ]
          },
          "metadata": {},
          "execution_count": 434
        }
      ]
    },
    {
      "cell_type": "code",
      "metadata": {
        "id": "253roGKU-0Ys"
      },
      "source": [
        "rf_params = {\"max_depth\": [2,5,8,10],\n",
        "            \"max_features\": [2,5,8],\n",
        "            \"n_estimators\": [10,100,500,1000],\n",
        "            \"min_samples_split\": [2,5,10]} "
      ],
      "execution_count": null,
      "outputs": []
    },
    {
      "cell_type": "code",
      "metadata": {
        "id": "rHwIJAm9-0Ys"
      },
      "source": [
        "rf_model = RandomForestClassifier()\n",
        "\n",
        "rf_cv_model = GridSearchCV(rf_model, \n",
        "                           rf_params, \n",
        "                           cv = 10, \n",
        "                           n_jobs = -1, \n",
        "                           verbose = 2) "
      ],
      "execution_count": null,
      "outputs": []
    },
    {
      "cell_type": "code",
      "metadata": {
        "id": "0YjjgEKt-0Ys",
        "colab": {
          "base_uri": "https://localhost:8080/"
        },
        "outputId": "7e347e9f-44f9-4e5a-b547-df6f7666ca65"
      },
      "source": [
        "rf_cv_model.fit(X_train, y_train)"
      ],
      "execution_count": null,
      "outputs": [
        {
          "output_type": "stream",
          "name": "stdout",
          "text": [
            "Fitting 10 folds for each of 144 candidates, totalling 1440 fits\n"
          ]
        },
        {
          "output_type": "stream",
          "name": "stderr",
          "text": [
            "[Parallel(n_jobs=-1)]: Using backend LokyBackend with 2 concurrent workers.\n",
            "[Parallel(n_jobs=-1)]: Done  59 tasks      | elapsed:   22.8s\n",
            "[Parallel(n_jobs=-1)]: Done 180 tasks      | elapsed:  1.5min\n",
            "[Parallel(n_jobs=-1)]: Done 423 tasks      | elapsed:  3.0min\n",
            "[Parallel(n_jobs=-1)]: Done 712 tasks      | elapsed:  5.1min\n",
            "[Parallel(n_jobs=-1)]: Done 1105 tasks      | elapsed:  7.9min\n",
            "[Parallel(n_jobs=-1)]: Done 1440 out of 1440 | elapsed: 10.4min finished\n"
          ]
        },
        {
          "output_type": "execute_result",
          "data": {
            "text/plain": [
              "GridSearchCV(cv=10, error_score=nan,\n",
              "             estimator=RandomForestClassifier(bootstrap=True, ccp_alpha=0.0,\n",
              "                                              class_weight=None,\n",
              "                                              criterion='gini', max_depth=None,\n",
              "                                              max_features='auto',\n",
              "                                              max_leaf_nodes=None,\n",
              "                                              max_samples=None,\n",
              "                                              min_impurity_decrease=0.0,\n",
              "                                              min_impurity_split=None,\n",
              "                                              min_samples_leaf=1,\n",
              "                                              min_samples_split=2,\n",
              "                                              min_weight_fraction_leaf=0.0,\n",
              "                                              n_estimators=100, n_jobs=None,\n",
              "                                              oob_score=False,\n",
              "                                              random_state=None, verbose=0,\n",
              "                                              warm_start=False),\n",
              "             iid='deprecated', n_jobs=-1,\n",
              "             param_grid={'max_depth': [2, 5, 8, 10], 'max_features': [2, 5, 8],\n",
              "                         'min_samples_split': [2, 5, 10],\n",
              "                         'n_estimators': [10, 100, 500, 1000]},\n",
              "             pre_dispatch='2*n_jobs', refit=True, return_train_score=False,\n",
              "             scoring=None, verbose=2)"
            ]
          },
          "metadata": {},
          "execution_count": 442
        }
      ]
    },
    {
      "cell_type": "code",
      "metadata": {
        "id": "C8SzBmU4-0Ys",
        "colab": {
          "base_uri": "https://localhost:8080/"
        },
        "outputId": "42faf02e-db3e-4cef-f514-3b5a1bd3552b"
      },
      "source": [
        "print(\"En iyi parametreler: \" + str(rf_cv_model.best_params_))"
      ],
      "execution_count": null,
      "outputs": [
        {
          "output_type": "stream",
          "name": "stdout",
          "text": [
            "En iyi parametreler: {'max_depth': 2, 'max_features': 2, 'min_samples_split': 2, 'n_estimators': 1000}\n"
          ]
        }
      ]
    },
    {
      "cell_type": "markdown",
      "metadata": {
        "id": "D2NdBWrfQy4i"
      },
      "source": [
        "**TUNING**"
      ]
    },
    {
      "cell_type": "code",
      "metadata": {
        "id": "VrSPcgp2-0Yt",
        "colab": {
          "base_uri": "https://localhost:8080/"
        },
        "outputId": "5f356fde-8eaa-4f6d-a2bf-566b833d39db"
      },
      "source": [
        "rf_tuned = RandomForestClassifier(max_depth =5, \n",
        "                                  max_features = 2, \n",
        "                                  min_samples_split = 2,\n",
        "                                  n_estimators = 10)\n",
        "\n",
        "rf_tuned.fit(X_train, y_train)"
      ],
      "execution_count": null,
      "outputs": [
        {
          "output_type": "execute_result",
          "data": {
            "text/plain": [
              "RandomForestClassifier(bootstrap=True, ccp_alpha=0.0, class_weight=None,\n",
              "                       criterion='gini', max_depth=5, max_features=2,\n",
              "                       max_leaf_nodes=None, max_samples=None,\n",
              "                       min_impurity_decrease=0.0, min_impurity_split=None,\n",
              "                       min_samples_leaf=1, min_samples_split=2,\n",
              "                       min_weight_fraction_leaf=0.0, n_estimators=10,\n",
              "                       n_jobs=None, oob_score=False, random_state=None,\n",
              "                       verbose=0, warm_start=False)"
            ]
          },
          "metadata": {},
          "execution_count": 478
        }
      ]
    },
    {
      "cell_type": "code",
      "metadata": {
        "id": "9R6EDTe0-0Yt",
        "colab": {
          "base_uri": "https://localhost:8080/"
        },
        "outputId": "c8b28357-0240-4371-91d7-1deb9a50fad8"
      },
      "source": [
        "y_pred = rf_tuned.predict(X_test)\n",
        "accuracy_score(y_test, y_pred)"
      ],
      "execution_count": null,
      "outputs": [
        {
          "output_type": "execute_result",
          "data": {
            "text/plain": [
              "0.631578947368421"
            ]
          },
          "metadata": {},
          "execution_count": 479
        }
      ]
    },
    {
      "cell_type": "code",
      "metadata": {
        "id": "TnoTyXCA-0Yt"
      },
      "source": [
        "Importance = pd.DataFrame({\"Importance\": rf_tuned.feature_importances_*100},\n",
        "                         index = X_train.columns)"
      ],
      "execution_count": null,
      "outputs": []
    },
    {
      "cell_type": "code",
      "metadata": {
        "id": "jkR7a5I0-0Yt",
        "colab": {
          "base_uri": "https://localhost:8080/",
          "height": 298
        },
        "outputId": "84bf4894-2712-44f5-c233-b17006046d76"
      },
      "source": [
        "Importance.sort_values(by = \"Importance\", \n",
        "                       axis = 0, \n",
        "                       ascending = True).plot(kind =\"barh\", color = \"r\")\n",
        "\n",
        "plt.xlabel(\"Değişken Önem Düzeyleri\")"
      ],
      "execution_count": null,
      "outputs": [
        {
          "output_type": "execute_result",
          "data": {
            "text/plain": [
              "Text(0.5, 0, 'Değişken Önem Düzeyleri')"
            ]
          },
          "metadata": {},
          "execution_count": 481
        },
        {
          "output_type": "display_data",
          "data": {
            "image/png": "[encoded data removed]",
            "text/plain": [
              "<Figure size 432x288 with 1 Axes>"
            ]
          },
          "metadata": {
            "needs_background": "light"
          }
        }
      ]
    },
    {
      "cell_type": "markdown",
      "metadata": {
        "id": "uyT_LLcIT6Lg"
      },
      "source": [
        "# **Gradient Boosting Machines**"
      ]
    },
    {
      "cell_type": "markdown",
      "metadata": {
        "id": "UC5HkAe1T9hx"
      },
      "source": [
        "**Model & FORECAST**"
      ]
    },
    {
      "cell_type": "code",
      "metadata": {
        "id": "14hsNnnkRnST"
      },
      "source": [
        "y = df[\"Y\"]\n",
        "X = df.drop([\"Y\"], axis=1)\n",
        "X_train, X_test, y_train, y_test = train_test_split(X, y, \n",
        "                                                    test_size=0.15, \n",
        "                                                    random_state=42)"
      ],
      "execution_count": null,
      "outputs": []
    },
    {
      "cell_type": "code",
      "metadata": {
        "id": "0EgtnLij-0Yt"
      },
      "source": [
        "from sklearn.ensemble import GradientBoostingClassifier"
      ],
      "execution_count": null,
      "outputs": []
    },
    {
      "cell_type": "code",
      "metadata": {
        "id": "itGCHY1o-0Yu"
      },
      "source": [
        "gbm_model = GradientBoostingClassifier().fit(X_train, y_train)"
      ],
      "execution_count": null,
      "outputs": []
    },
    {
      "cell_type": "code",
      "metadata": {
        "id": "rUNbqL1J-0Yu",
        "colab": {
          "base_uri": "https://localhost:8080/"
        },
        "outputId": "614b1bea-c853-4740-e26f-8ac828d68811"
      },
      "source": [
        "y_pred = gbm_model.predict(X_test)\n",
        "accuracy_score(y_test, y_pred)"
      ],
      "execution_count": null,
      "outputs": [
        {
          "output_type": "execute_result",
          "data": {
            "text/plain": [
              "0.7368421052631579"
            ]
          },
          "metadata": {},
          "execution_count": 497
        }
      ]
    },
    {
      "cell_type": "markdown",
      "metadata": {
        "id": "kGeNWqMXUH9F"
      },
      "source": [
        "# **Model Tuning**"
      ]
    },
    {
      "cell_type": "code",
      "metadata": {
        "colab": {
          "base_uri": "https://localhost:8080/"
        },
        "id": "deJg40X7UDrR",
        "outputId": "b754be93-8549-401a-a25e-82684cd8a142"
      },
      "source": [
        "gbm_model"
      ],
      "execution_count": null,
      "outputs": [
        {
          "output_type": "execute_result",
          "data": {
            "text/plain": [
              "GradientBoostingClassifier(ccp_alpha=0.0, criterion='friedman_mse', init=None,\n",
              "                           learning_rate=0.1, loss='deviance', max_depth=3,\n",
              "                           max_features=None, max_leaf_nodes=None,\n",
              "                           min_impurity_decrease=0.0, min_impurity_split=None,\n",
              "                           min_samples_leaf=1, min_samples_split=2,\n",
              "                           min_weight_fraction_leaf=0.0, n_estimators=100,\n",
              "                           n_iter_no_change=None, presort='deprecated',\n",
              "                           random_state=None, subsample=1.0, tol=0.0001,\n",
              "                           validation_fraction=0.1, verbose=0,\n",
              "                           warm_start=False)"
            ]
          },
          "metadata": {},
          "execution_count": 498
        }
      ]
    },
    {
      "cell_type": "code",
      "metadata": {
        "id": "CgNjSG3L-0Yu"
      },
      "source": [
        "gbm_params = {\"learning_rate\" : [0.001, 0.01, 0.1, 0.05],\n",
        "             \"n_estimators\": [100,500,100],\n",
        "             \"max_depth\": [3,5,10],\n",
        "             \"min_samples_split\": [2,5,10]}"
      ],
      "execution_count": null,
      "outputs": []
    },
    {
      "cell_type": "code",
      "metadata": {
        "id": "7SQ5hUNe-0Yv"
      },
      "source": [
        "gbm = GradientBoostingClassifier()\n",
        "\n",
        "gbm_cv = GridSearchCV(gbm, gbm_params, cv = 5, n_jobs = -1, verbose = 2)"
      ],
      "execution_count": null,
      "outputs": []
    },
    {
      "cell_type": "code",
      "metadata": {
        "id": "RponMdmg-0Yv",
        "colab": {
          "base_uri": "https://localhost:8080/"
        },
        "outputId": "32bcc0a9-eefe-42f8-8e3d-bf53edb766e4"
      },
      "source": [
        "gbm_cv.fit(X_train, y_train)"
      ],
      "execution_count": null,
      "outputs": [
        {
          "output_type": "stream",
          "name": "stdout",
          "text": [
            "Fitting 5 folds for each of 108 candidates, totalling 540 fits\n"
          ]
        },
        {
          "output_type": "stream",
          "name": "stderr",
          "text": [
            "[Parallel(n_jobs=-1)]: Using backend LokyBackend with 2 concurrent workers.\n",
            "[Parallel(n_jobs=-1)]: Done  37 tasks      | elapsed:    5.9s\n",
            "[Parallel(n_jobs=-1)]: Done 158 tasks      | elapsed:   29.9s\n",
            "[Parallel(n_jobs=-1)]: Done 361 tasks      | elapsed:  1.1min\n",
            "[Parallel(n_jobs=-1)]: Done 540 out of 540 | elapsed:  1.7min finished\n"
          ]
        },
        {
          "output_type": "execute_result",
          "data": {
            "text/plain": [
              "GridSearchCV(cv=5, error_score=nan,\n",
              "             estimator=GradientBoostingClassifier(ccp_alpha=0.0,\n",
              "                                                  criterion='friedman_mse',\n",
              "                                                  init=None, learning_rate=0.1,\n",
              "                                                  loss='deviance', max_depth=3,\n",
              "                                                  max_features=None,\n",
              "                                                  max_leaf_nodes=None,\n",
              "                                                  min_impurity_decrease=0.0,\n",
              "                                                  min_impurity_split=None,\n",
              "                                                  min_samples_leaf=1,\n",
              "                                                  min_samples_split=2,\n",
              "                                                  min_weight_fraction_leaf=0.0,\n",
              "                                                  n_estimators=100,\n",
              "                                                  n_iter_no_c...\n",
              "                                                  presort='deprecated',\n",
              "                                                  random_state=None,\n",
              "                                                  subsample=1.0, tol=0.0001,\n",
              "                                                  validation_fraction=0.1,\n",
              "                                                  verbose=0, warm_start=False),\n",
              "             iid='deprecated', n_jobs=-1,\n",
              "             param_grid={'learning_rate': [0.001, 0.01, 0.1, 0.05],\n",
              "                         'max_depth': [3, 5, 10],\n",
              "                         'min_samples_split': [2, 5, 10],\n",
              "                         'n_estimators': [100, 500, 100]},\n",
              "             pre_dispatch='2*n_jobs', refit=True, return_train_score=False,\n",
              "             scoring=None, verbose=2)"
            ]
          },
          "metadata": {},
          "execution_count": 501
        }
      ]
    },
    {
      "cell_type": "code",
      "metadata": {
        "id": "M66NbRCz-0Yv",
        "colab": {
          "base_uri": "https://localhost:8080/"
        },
        "outputId": "70e5fcc0-938c-454c-9a3a-62fece2121af"
      },
      "source": [
        "print(\"En iyi parametreler: \" + str(gbm_cv.best_params_))"
      ],
      "execution_count": null,
      "outputs": [
        {
          "output_type": "stream",
          "name": "stdout",
          "text": [
            "En iyi parametreler: {'learning_rate': 0.001, 'max_depth': 3, 'min_samples_split': 2, 'n_estimators': 500}\n"
          ]
        }
      ]
    },
    {
      "cell_type": "code",
      "metadata": {
        "id": "mrOF7snc-0Yv"
      },
      "source": [
        "gbm = GradientBoostingClassifier(learning_rate= 0.15, )"
      ],
      "execution_count": null,
      "outputs": []
    },
    {
      "cell_type": "code",
      "metadata": {
        "id": "qTvvwY_a-0Yv"
      },
      "source": [
        "gbm_tuned =  gbm.fit(X_train,y_train)"
      ],
      "execution_count": null,
      "outputs": []
    },
    {
      "cell_type": "code",
      "metadata": {
        "id": "bjr3cpYq-0Yv",
        "colab": {
          "base_uri": "https://localhost:8080/"
        },
        "outputId": "1fa52739-e9dd-4ae3-f442-272068fc1a8e"
      },
      "source": [
        "y_pred = gbm_tuned.predict(X_test)\n",
        "accuracy_score(y_test, y_pred)"
      ],
      "execution_count": null,
      "outputs": [
        {
          "output_type": "execute_result",
          "data": {
            "text/plain": [
              "0.7894736842105263"
            ]
          },
          "metadata": {},
          "execution_count": 520
        }
      ]
    },
    {
      "cell_type": "markdown",
      "metadata": {
        "id": "DG_2nfrKVIEN"
      },
      "source": [
        "# **XGBoost**"
      ]
    },
    {
      "cell_type": "markdown",
      "metadata": {
        "id": "OLI8OxRAVLey"
      },
      "source": [
        " **Model & FORECAST**"
      ]
    },
    {
      "cell_type": "code",
      "metadata": {
        "id": "vw1BMNH8UDo9"
      },
      "source": [
        "y = df[\"Y\"]\n",
        "X = df.drop([\"Y\"], axis=1)\n",
        "X_train, X_test, y_train, y_test = train_test_split(X, y, \n",
        "                                                    test_size=0.15, \n",
        "                                                    random_state=42)"
      ],
      "execution_count": null,
      "outputs": []
    },
    {
      "cell_type": "code",
      "metadata": {
        "colab": {
          "base_uri": "https://localhost:8080/"
        },
        "id": "Ls1ouzVBUDmo",
        "outputId": "79d99ea3-9b94-4341-9d7c-351a68b8a1f6"
      },
      "source": [
        "!pip install xgboost"
      ],
      "execution_count": null,
      "outputs": [
        {
          "output_type": "stream",
          "name": "stdout",
          "text": [
            "Requirement already satisfied: xgboost in /usr/local/lib/python3.7/dist-packages (0.90)\n",
            "Requirement already satisfied: numpy in /usr/local/lib/python3.7/dist-packages (from xgboost) (1.19.5)\n",
            "Requirement already satisfied: scipy in /usr/local/lib/python3.7/dist-packages (from xgboost) (1.4.1)\n"
          ]
        }
      ]
    },
    {
      "cell_type": "code",
      "metadata": {
        "id": "XEtqxg65UDg9"
      },
      "source": [
        "xgb_model = XGBClassifier().fit(X_train, y_train)"
      ],
      "execution_count": null,
      "outputs": []
    },
    {
      "cell_type": "code",
      "metadata": {
        "colab": {
          "base_uri": "https://localhost:8080/"
        },
        "id": "40YI3CnrUDeJ",
        "outputId": "7a6f9f3f-2244-4cd0-b6cf-066b72813793"
      },
      "source": [
        "xgb_model"
      ],
      "execution_count": null,
      "outputs": [
        {
          "output_type": "execute_result",
          "data": {
            "text/plain": [
              "XGBClassifier(base_score=0.5, booster='gbtree', colsample_bylevel=1,\n",
              "              colsample_bynode=1, colsample_bytree=1, gamma=0,\n",
              "              learning_rate=0.1, max_delta_step=0, max_depth=3,\n",
              "              min_child_weight=1, missing=None, n_estimators=100, n_jobs=1,\n",
              "              nthread=None, objective='binary:logistic', random_state=0,\n",
              "              reg_alpha=0, reg_lambda=1, scale_pos_weight=1, seed=None,\n",
              "              silent=None, subsample=1, verbosity=1)"
            ]
          },
          "metadata": {},
          "execution_count": 524
        }
      ]
    },
    {
      "cell_type": "code",
      "metadata": {
        "colab": {
          "base_uri": "https://localhost:8080/"
        },
        "id": "n5Cu-bjMVTi4",
        "outputId": "607c91ac-0d79-4968-eba3-7e8cf1895e26"
      },
      "source": [
        "y_pred = xgb_model.predict(X_test)\n",
        "accuracy_score(y_test, y_pred)"
      ],
      "execution_count": null,
      "outputs": [
        {
          "output_type": "execute_result",
          "data": {
            "text/plain": [
              "0.6842105263157895"
            ]
          },
          "metadata": {},
          "execution_count": 525
        }
      ]
    },
    {
      "cell_type": "markdown",
      "metadata": {
        "id": "eF5a3TYiVWR7"
      },
      "source": [
        "**Model Tuning**"
      ]
    },
    {
      "cell_type": "code",
      "metadata": {
        "colab": {
          "base_uri": "https://localhost:8080/"
        },
        "id": "Ey5NLlyCVUSI",
        "outputId": "db8acf54-2339-4b90-8994-a5b106651dc3"
      },
      "source": [
        "xgb_model"
      ],
      "execution_count": null,
      "outputs": [
        {
          "output_type": "execute_result",
          "data": {
            "text/plain": [
              "XGBClassifier(base_score=0.5, booster='gbtree', colsample_bylevel=1,\n",
              "              colsample_bynode=1, colsample_bytree=1, gamma=0,\n",
              "              learning_rate=0.1, max_delta_step=0, max_depth=3,\n",
              "              min_child_weight=1, missing=None, n_estimators=100, n_jobs=1,\n",
              "              nthread=None, objective='binary:logistic', random_state=0,\n",
              "              reg_alpha=0, reg_lambda=1, scale_pos_weight=1, seed=None,\n",
              "              silent=None, subsample=1, verbosity=1)"
            ]
          },
          "metadata": {},
          "execution_count": 526
        }
      ]
    },
    {
      "cell_type": "code",
      "metadata": {
        "id": "3u-4b23O-0Yx"
      },
      "source": [
        "xgb_params = {\n",
        "        'n_estimators': [100, 500, 1000, 2000],\n",
        "        'subsample': [0.6, 0.8, 1.0],\n",
        "        'max_depth': [3, 4, 5,6],\n",
        "        'learning_rate': [0.1,0.01,0.02,0.05],\n",
        "        \"min_samples_split\": [2,5,10]}"
      ],
      "execution_count": null,
      "outputs": []
    },
    {
      "cell_type": "code",
      "metadata": {
        "id": "Twv1CV2h-0Yx"
      },
      "source": [
        "xgb = XGBClassifier()\n",
        "\n",
        "xgb_cv_model = GridSearchCV(xgb, xgb_params, cv = 10, n_jobs = -1, verbose = 2)"
      ],
      "execution_count": null,
      "outputs": []
    },
    {
      "cell_type": "code",
      "metadata": {
        "id": "z8vjerYg-0Yx",
        "colab": {
          "base_uri": "https://localhost:8080/"
        },
        "outputId": "e101ad92-1d60-4e10-cc1a-89e2ae08925b"
      },
      "source": [
        "xgb_cv_model.fit(X_train, y_train)"
      ],
      "execution_count": null,
      "outputs": [
        {
          "output_type": "stream",
          "name": "stdout",
          "text": [
            "Fitting 10 folds for each of 576 candidates, totalling 5760 fits\n"
          ]
        },
        {
          "output_type": "stream",
          "name": "stderr",
          "text": [
            "[Parallel(n_jobs=-1)]: Using backend LokyBackend with 2 concurrent workers.\n",
            "[Parallel(n_jobs=-1)]: Done 130 tasks      | elapsed:    8.7s\n",
            "[Parallel(n_jobs=-1)]: Done 552 tasks      | elapsed:   39.5s\n",
            "[Parallel(n_jobs=-1)]: Done 968 tasks      | elapsed:  1.3min\n",
            "[Parallel(n_jobs=-1)]: Done 1809 tasks      | elapsed:  2.4min\n",
            "[Parallel(n_jobs=-1)]: Done 2643 tasks      | elapsed:  3.7min\n",
            "[Parallel(n_jobs=-1)]: Done 3845 tasks      | elapsed:  5.4min\n",
            "[Parallel(n_jobs=-1)]: Done 5267 tasks      | elapsed:  7.4min\n",
            "[Parallel(n_jobs=-1)]: Done 5760 out of 5760 | elapsed:  8.2min finished\n"
          ]
        },
        {
          "output_type": "execute_result",
          "data": {
            "text/plain": [
              "GridSearchCV(cv=10, error_score=nan,\n",
              "             estimator=XGBClassifier(base_score=0.5, booster='gbtree',\n",
              "                                     colsample_bylevel=1, colsample_bynode=1,\n",
              "                                     colsample_bytree=1, gamma=0,\n",
              "                                     learning_rate=0.1, max_delta_step=0,\n",
              "                                     max_depth=3, min_child_weight=1,\n",
              "                                     missing=None, n_estimators=100, n_jobs=1,\n",
              "                                     nthread=None, objective='binary:logistic',\n",
              "                                     random_state=0, reg_alpha=0, reg_lambda=1,\n",
              "                                     scale_pos_weight=1, seed=None, silent=None,\n",
              "                                     subsample=1, verbosity=1),\n",
              "             iid='deprecated', n_jobs=-1,\n",
              "             param_grid={'learning_rate': [0.1, 0.01, 0.02, 0.05],\n",
              "                         'max_depth': [3, 4, 5, 6],\n",
              "                         'min_samples_split': [2, 5, 10],\n",
              "                         'n_estimators': [100, 500, 1000, 2000],\n",
              "                         'subsample': [0.6, 0.8, 1.0]},\n",
              "             pre_dispatch='2*n_jobs', refit=True, return_train_score=False,\n",
              "             scoring=None, verbose=2)"
            ]
          },
          "metadata": {},
          "execution_count": 529
        }
      ]
    },
    {
      "cell_type": "code",
      "metadata": {
        "id": "VkzOCHu9-0Yx",
        "colab": {
          "base_uri": "https://localhost:8080/"
        },
        "outputId": "9676e7ad-b8d1-4bb0-f40d-f984bca35b36"
      },
      "source": [
        "xgb_cv_model.best_params_"
      ],
      "execution_count": null,
      "outputs": [
        {
          "output_type": "execute_result",
          "data": {
            "text/plain": [
              "{'learning_rate': 0.1,\n",
              " 'max_depth': 4,\n",
              " 'min_samples_split': 2,\n",
              " 'n_estimators': 500,\n",
              " 'subsample': 1.0}"
            ]
          },
          "metadata": {},
          "execution_count": 530
        }
      ]
    },
    {
      "cell_type": "code",
      "metadata": {
        "id": "AP1LJqgD-0Yx"
      },
      "source": [
        "xgb = XGBClassifier(learning_rate = 0.01, \n",
        "                    max_depth =5,\n",
        "                    min_samples_split = 2,\n",
        "                    n_estimators = 500,\n",
        "                    subsample = 1)"
      ],
      "execution_count": null,
      "outputs": []
    },
    {
      "cell_type": "code",
      "metadata": {
        "id": "PrZ0mXp8XTfD"
      },
      "source": [
        "xgb_tuned =  xgb.fit(X_train,y_train)"
      ],
      "execution_count": null,
      "outputs": []
    },
    {
      "cell_type": "code",
      "metadata": {
        "id": "p6JstKAS-0Yx",
        "colab": {
          "base_uri": "https://localhost:8080/"
        },
        "outputId": "716c7aec-03c8-4b37-a674-7b4138dc2d2c"
      },
      "source": [
        "y_pred = xgb_tuned.predict(X_test)\n",
        "accuracy_score(y_test, y_pred)"
      ],
      "execution_count": null,
      "outputs": [
        {
          "output_type": "execute_result",
          "data": {
            "text/plain": [
              "0.7368421052631579"
            ]
          },
          "metadata": {},
          "execution_count": 588
        }
      ]
    },
    {
      "cell_type": "markdown",
      "metadata": {
        "id": "FRTtgAkaXaXT"
      },
      "source": [
        "# **LightGBM**"
      ]
    },
    {
      "cell_type": "markdown",
      "metadata": {
        "id": "MZjPqqWAXcem"
      },
      "source": [
        "**Model & FORECAST**"
      ]
    },
    {
      "cell_type": "code",
      "metadata": {
        "id": "FYMjw7HxXaCp"
      },
      "source": [
        "y = df[\"Y\"]\n",
        "X = df.drop([\"Y\"], axis=1)\n",
        "X_train, X_test, y_train, y_test = train_test_split(X, y, \n",
        "                                                    test_size=0.15, \n",
        "                                                    random_state=42)"
      ],
      "execution_count": null,
      "outputs": []
    },
    {
      "cell_type": "code",
      "metadata": {
        "id": "fKs5y_MOVZcC"
      },
      "source": [
        "from lightgbm import LGBMClassifier"
      ],
      "execution_count": null,
      "outputs": []
    },
    {
      "cell_type": "code",
      "metadata": {
        "id": "uueQ3j1nVZZs"
      },
      "source": [
        "lgbm_model = LGBMClassifier().fit(X_train, y_train)"
      ],
      "execution_count": null,
      "outputs": []
    },
    {
      "cell_type": "code",
      "metadata": {
        "colab": {
          "base_uri": "https://localhost:8080/"
        },
        "id": "bK1tw2T2VZXb",
        "outputId": "27da588c-2260-419a-f7fb-adfd9db825b0"
      },
      "source": [
        "y_pred = lgbm_model.predict(X_test)\n",
        "accuracy_score(y_test, y_pred)"
      ],
      "execution_count": null,
      "outputs": [
        {
          "output_type": "execute_result",
          "data": {
            "text/plain": [
              "0.7894736842105263"
            ]
          },
          "metadata": {},
          "execution_count": 592
        }
      ]
    },
    {
      "cell_type": "markdown",
      "metadata": {
        "id": "L8HAMUBwXnNQ"
      },
      "source": [
        "**Model Tuning**"
      ]
    },
    {
      "cell_type": "code",
      "metadata": {
        "colab": {
          "base_uri": "https://localhost:8080/"
        },
        "id": "0YVrSqneVZVq",
        "outputId": "8cce9f99-0a0c-404a-91a9-53ffd2611cb4"
      },
      "source": [
        "lgbm_model"
      ],
      "execution_count": null,
      "outputs": [
        {
          "output_type": "execute_result",
          "data": {
            "text/plain": [
              "LGBMClassifier(boosting_type='gbdt', class_weight=None, colsample_bytree=1.0,\n",
              "               importance_type='split', learning_rate=0.1, max_depth=-1,\n",
              "               min_child_samples=20, min_child_weight=0.001, min_split_gain=0.0,\n",
              "               n_estimators=100, n_jobs=-1, num_leaves=31, objective=None,\n",
              "               random_state=None, reg_alpha=0.0, reg_lambda=0.0, silent=True,\n",
              "               subsample=1.0, subsample_for_bin=200000, subsample_freq=0)"
            ]
          },
          "metadata": {},
          "execution_count": 593
        }
      ]
    },
    {
      "cell_type": "code",
      "metadata": {
        "id": "itNPJMqK-0Yz"
      },
      "source": [
        "lgbm_params = {\n",
        "        'n_estimators': [100, 500, 1000, 2000],\n",
        "        'subsample': [0.6, 0.8, 1.0],\n",
        "        'max_depth': [3, 4, 5,6],\n",
        "        'learning_rate': [0.1,0.01,0.02,0.05],\n",
        "        \"min_child_samples\": [5,10,20]}"
      ],
      "execution_count": null,
      "outputs": []
    },
    {
      "cell_type": "code",
      "metadata": {
        "id": "02NWgAvy-0Y0"
      },
      "source": [
        "lgbm = LGBMClassifier()\n",
        "\n",
        "lgbm_cv_model = GridSearchCV(lgbm, lgbm_params, \n",
        "                             cv = 8, \n",
        "                             n_jobs = -1, \n",
        "                             verbose = 2)\n",
        "\n"
      ],
      "execution_count": null,
      "outputs": []
    },
    {
      "cell_type": "code",
      "metadata": {
        "id": "ABBfHzXd-0Y0",
        "colab": {
          "base_uri": "https://localhost:8080/"
        },
        "outputId": "19390969-f4c8-40b5-91e3-cefc2b2db5e7"
      },
      "source": [
        "lgbm_cv_model.fit(X_train, y_train)"
      ],
      "execution_count": null,
      "outputs": [
        {
          "output_type": "stream",
          "name": "stdout",
          "text": [
            "Fitting 8 folds for each of 576 candidates, totalling 4608 fits\n"
          ]
        },
        {
          "output_type": "stream",
          "name": "stderr",
          "text": [
            "[Parallel(n_jobs=-1)]: Using backend LokyBackend with 2 concurrent workers.\n",
            "[Parallel(n_jobs=-1)]: Done  86 tasks      | elapsed:    7.7s\n",
            "[Parallel(n_jobs=-1)]: Done 526 tasks      | elapsed:   38.0s\n",
            "[Parallel(n_jobs=-1)]: Done 932 tasks      | elapsed:  1.2min\n",
            "[Parallel(n_jobs=-1)]: Done 1806 tasks      | elapsed:  2.3min\n",
            "[Parallel(n_jobs=-1)]: Done 2808 tasks      | elapsed:  3.8min\n",
            "[Parallel(n_jobs=-1)]: Done 4138 tasks      | elapsed:  5.6min\n",
            "[Parallel(n_jobs=-1)]: Done 4608 out of 4608 | elapsed:  6.3min finished\n"
          ]
        },
        {
          "output_type": "execute_result",
          "data": {
            "text/plain": [
              "GridSearchCV(cv=8, error_score=nan,\n",
              "             estimator=LGBMClassifier(boosting_type='gbdt', class_weight=None,\n",
              "                                      colsample_bytree=1.0,\n",
              "                                      importance_type='split',\n",
              "                                      learning_rate=0.1, max_depth=-1,\n",
              "                                      min_child_samples=20,\n",
              "                                      min_child_weight=0.001,\n",
              "                                      min_split_gain=0.0, n_estimators=100,\n",
              "                                      n_jobs=-1, num_leaves=31, objective=None,\n",
              "                                      random_state=None, reg_alpha=0.0,\n",
              "                                      reg_lambda=0.0, silent=True,\n",
              "                                      subsample=1.0, subsample_for_bin=200000,\n",
              "                                      subsample_freq=0),\n",
              "             iid='deprecated', n_jobs=-1,\n",
              "             param_grid={'learning_rate': [0.1, 0.01, 0.02, 0.05],\n",
              "                         'max_depth': [3, 4, 5, 6],\n",
              "                         'min_child_samples': [5, 10, 20],\n",
              "                         'n_estimators': [100, 500, 1000, 2000],\n",
              "                         'subsample': [0.6, 0.8, 1.0]},\n",
              "             pre_dispatch='2*n_jobs', refit=True, return_train_score=False,\n",
              "             scoring=None, verbose=2)"
            ]
          },
          "metadata": {},
          "execution_count": 596
        }
      ]
    },
    {
      "cell_type": "code",
      "metadata": {
        "id": "52eS04Su-0Y0",
        "colab": {
          "base_uri": "https://localhost:8080/"
        },
        "outputId": "2c694253-3637-4942-8bb4-7ea02947dc1f"
      },
      "source": [
        "lgbm_cv_model.best_params_"
      ],
      "execution_count": null,
      "outputs": [
        {
          "output_type": "execute_result",
          "data": {
            "text/plain": [
              "{'learning_rate': 0.01,\n",
              " 'max_depth': 3,\n",
              " 'min_child_samples': 20,\n",
              " 'n_estimators': 100,\n",
              " 'subsample': 0.6}"
            ]
          },
          "metadata": {},
          "execution_count": 597
        }
      ]
    },
    {
      "cell_type": "code",
      "metadata": {
        "id": "XD6zAs3K-0Y4"
      },
      "source": [
        "lgbm = LGBMClassifier(learning_rate = 0.1, \n",
        "                       max_depth = 3,\n",
        "                       subsample = 1,\n",
        "                       n_estimators = 500,\n",
        "                       min_child_samples = 20)"
      ],
      "execution_count": null,
      "outputs": []
    },
    {
      "cell_type": "code",
      "metadata": {
        "id": "QAu2uV2C-0Y4"
      },
      "source": [
        "lgbm_tuned = lgbm.fit(X_train,y_train)"
      ],
      "execution_count": null,
      "outputs": []
    },
    {
      "cell_type": "code",
      "metadata": {
        "id": "VZ3tQ22t-0Y4",
        "colab": {
          "base_uri": "https://localhost:8080/"
        },
        "outputId": "9f657ac3-38e2-4c79-eb6a-afb45733ebc8"
      },
      "source": [
        "y_pred = lgbm_tuned.predict(X_test)\n",
        "accuracy_score(y_test, y_pred)"
      ],
      "execution_count": null,
      "outputs": [
        {
          "output_type": "execute_result",
          "data": {
            "text/plain": [
              "0.7894736842105263"
            ]
          },
          "metadata": {},
          "execution_count": 611
        }
      ]
    },
    {
      "cell_type": "markdown",
      "metadata": {
        "id": "sbIOWlMKZVeR"
      },
      "source": [
        "# **CatBoost**"
      ]
    },
    {
      "cell_type": "markdown",
      "metadata": {
        "id": "4lGx_zU_ZWPD"
      },
      "source": [
        "**Model & FORECAST**"
      ]
    },
    {
      "cell_type": "code",
      "metadata": {
        "id": "3EGQxPAsVZTB"
      },
      "source": [
        "y = df[\"Y\"]\n",
        "X = df.drop([\"Y\"], axis=1)\n",
        "X_train, X_test, y_train, y_test = train_test_split(X, y, \n",
        "                                                    test_size=0.15, \n",
        "                                                    random_state=42)"
      ],
      "execution_count": null,
      "outputs": []
    },
    {
      "cell_type": "code",
      "metadata": {
        "id": "lqrPTDWm-0Y4"
      },
      "source": [
        "from catboost import CatBoostClassifier"
      ],
      "execution_count": null,
      "outputs": []
    },
    {
      "cell_type": "code",
      "metadata": {
        "id": "w7QUv3XA-0Y5"
      },
      "source": [
        "cat_model = CatBoostClassifier().fit(X_train, y_train)"
      ],
      "execution_count": null,
      "outputs": []
    },
    {
      "cell_type": "code",
      "metadata": {
        "id": "XsWCm-oo-0Y5",
        "colab": {
          "base_uri": "https://localhost:8080/"
        },
        "outputId": "73d69e34-cac1-4f7a-80da-075762a91e49"
      },
      "source": [
        "y_pred = cat_model.predict(X_test)\n",
        "accuracy_score(y_test, y_pred)"
      ],
      "execution_count": null,
      "outputs": [
        {
          "output_type": "execute_result",
          "data": {
            "text/plain": [
              "0.6842105263157895"
            ]
          },
          "metadata": {},
          "execution_count": 615
        }
      ]
    },
    {
      "cell_type": "markdown",
      "metadata": {
        "id": "MoZRYoWlZf-o"
      },
      "source": [
        "**Model Tuning**"
      ]
    },
    {
      "cell_type": "code",
      "metadata": {
        "id": "HCovQn95-0Y5"
      },
      "source": [
        "catb_params = {\n",
        "    'iterations': [200,500],\n",
        "    'learning_rate': [0.01,0.05, 0.1],\n",
        "    'depth': [3,5,8] }"
      ],
      "execution_count": null,
      "outputs": []
    },
    {
      "cell_type": "code",
      "metadata": {
        "id": "I239qFZC-0Y5"
      },
      "source": [
        "catb = CatBoostClassifier()\n",
        "catb_cv_model = GridSearchCV(catb, catb_params, cv=8, n_jobs = -1, verbose = 2)\n",
        "catb_cv_model.fit(X_train, y_train)\n",
        "catb_cv_model.best_params_"
      ],
      "execution_count": null,
      "outputs": []
    },
    {
      "cell_type": "code",
      "metadata": {
        "id": "zrFsnpiD-0Y5",
        "colab": {
          "base_uri": "https://localhost:8080/"
        },
        "outputId": "de6df093-3e7e-4a2a-8a67-a350ccbb6723"
      },
      "source": [
        "catb_cv_model.best_params_"
      ],
      "execution_count": null,
      "outputs": [
        {
          "output_type": "execute_result",
          "data": {
            "text/plain": [
              "{'depth': 3, 'iterations': 200, 'learning_rate': 0.01}"
            ]
          },
          "metadata": {},
          "execution_count": 618
        }
      ]
    },
    {
      "cell_type": "code",
      "metadata": {
        "id": "YcuvmY8M-0Y5",
        "colab": {
          "base_uri": "https://localhost:8080/"
        },
        "outputId": "835ed2b3-8445-4954-e5ea-f1d5c52a39ae"
      },
      "source": [
        "catb = CatBoostClassifier(iterations = 200, \n",
        "                          learning_rate = 0.01, \n",
        "                          depth = 3)\n",
        "\n",
        "catb_tuned = catb.fit(X_train, y_train)\n",
        "y_pred = catb_tuned.predict(X_test)"
      ],
      "execution_count": null,
      "outputs": [
        {
          "output_type": "stream",
          "name": "stdout",
          "text": [
            "0:\tlearn: 0.6916457\ttotal: 307us\tremaining: 61.2ms\n",
            "1:\tlearn: 0.6895976\ttotal: 1.66ms\tremaining: 164ms\n",
            "2:\tlearn: 0.6877192\ttotal: 2.36ms\tremaining: 155ms\n",
            "3:\tlearn: 0.6869683\ttotal: 2.82ms\tremaining: 138ms\n",
            "4:\tlearn: 0.6859101\ttotal: 3.96ms\tremaining: 155ms\n",
            "5:\tlearn: 0.6838051\ttotal: 4.54ms\tremaining: 147ms\n",
            "6:\tlearn: 0.6825950\ttotal: 5.02ms\tremaining: 138ms\n",
            "7:\tlearn: 0.6815558\ttotal: 5.87ms\tremaining: 141ms\n",
            "8:\tlearn: 0.6805536\ttotal: 6.73ms\tremaining: 143ms\n",
            "9:\tlearn: 0.6798255\ttotal: 7.34ms\tremaining: 139ms\n",
            "10:\tlearn: 0.6778367\ttotal: 8.35ms\tremaining: 143ms\n",
            "11:\tlearn: 0.6770715\ttotal: 8.9ms\tremaining: 139ms\n",
            "12:\tlearn: 0.6755398\ttotal: 9.45ms\tremaining: 136ms\n",
            "13:\tlearn: 0.6741508\ttotal: 9.88ms\tremaining: 131ms\n",
            "14:\tlearn: 0.6729274\ttotal: 10.3ms\tremaining: 127ms\n",
            "15:\tlearn: 0.6718173\ttotal: 10.7ms\tremaining: 124ms\n",
            "16:\tlearn: 0.6700589\ttotal: 11.2ms\tremaining: 120ms\n",
            "17:\tlearn: 0.6688116\ttotal: 11.9ms\tremaining: 120ms\n",
            "18:\tlearn: 0.6674181\ttotal: 12.4ms\tremaining: 118ms\n",
            "19:\tlearn: 0.6661590\ttotal: 12.8ms\tremaining: 115ms\n",
            "20:\tlearn: 0.6645744\ttotal: 13ms\tremaining: 111ms\n",
            "21:\tlearn: 0.6637160\ttotal: 13.4ms\tremaining: 108ms\n",
            "22:\tlearn: 0.6626084\ttotal: 13.8ms\tremaining: 107ms\n",
            "23:\tlearn: 0.6617628\ttotal: 14.3ms\tremaining: 105ms\n",
            "24:\tlearn: 0.6606072\ttotal: 14.7ms\tremaining: 103ms\n",
            "25:\tlearn: 0.6593093\ttotal: 15.1ms\tremaining: 101ms\n",
            "26:\tlearn: 0.6578257\ttotal: 15.5ms\tremaining: 99.6ms\n",
            "27:\tlearn: 0.6562655\ttotal: 16ms\tremaining: 98.2ms\n",
            "28:\tlearn: 0.6552864\ttotal: 16.4ms\tremaining: 96.6ms\n",
            "29:\tlearn: 0.6540673\ttotal: 16.8ms\tremaining: 95.3ms\n",
            "30:\tlearn: 0.6529982\ttotal: 17.2ms\tremaining: 93.8ms\n",
            "31:\tlearn: 0.6522204\ttotal: 17.9ms\tremaining: 94ms\n",
            "32:\tlearn: 0.6515823\ttotal: 18.7ms\tremaining: 94.4ms\n",
            "33:\tlearn: 0.6501191\ttotal: 19.4ms\tremaining: 94.7ms\n",
            "34:\tlearn: 0.6490093\ttotal: 19.9ms\tremaining: 93.6ms\n",
            "35:\tlearn: 0.6483199\ttotal: 20.6ms\tremaining: 93.8ms\n",
            "36:\tlearn: 0.6476019\ttotal: 21.2ms\tremaining: 93.4ms\n",
            "37:\tlearn: 0.6462608\ttotal: 21.7ms\tremaining: 92.3ms\n",
            "38:\tlearn: 0.6460201\ttotal: 22.1ms\tremaining: 91.3ms\n",
            "39:\tlearn: 0.6448724\ttotal: 22.6ms\tremaining: 90.4ms\n",
            "40:\tlearn: 0.6439163\ttotal: 23.1ms\tremaining: 89.6ms\n",
            "41:\tlearn: 0.6433524\ttotal: 23.6ms\tremaining: 88.7ms\n",
            "42:\tlearn: 0.6422971\ttotal: 24ms\tremaining: 87.7ms\n",
            "43:\tlearn: 0.6419616\ttotal: 24.9ms\tremaining: 88.1ms\n",
            "44:\tlearn: 0.6410699\ttotal: 25.3ms\tremaining: 87.2ms\n",
            "45:\tlearn: 0.6402831\ttotal: 25.8ms\tremaining: 86.3ms\n",
            "46:\tlearn: 0.6389522\ttotal: 26.4ms\tremaining: 85.9ms\n",
            "47:\tlearn: 0.6383172\ttotal: 26.9ms\tremaining: 85.1ms\n",
            "48:\tlearn: 0.6376590\ttotal: 27.3ms\tremaining: 84.1ms\n",
            "49:\tlearn: 0.6374181\ttotal: 27.7ms\tremaining: 83.1ms\n",
            "50:\tlearn: 0.6368535\ttotal: 28.1ms\tremaining: 82.2ms\n",
            "51:\tlearn: 0.6357390\ttotal: 28.7ms\tremaining: 81.7ms\n",
            "52:\tlearn: 0.6349471\ttotal: 29.2ms\tremaining: 81ms\n",
            "53:\tlearn: 0.6340225\ttotal: 29.7ms\tremaining: 80.2ms\n",
            "54:\tlearn: 0.6330885\ttotal: 30.1ms\tremaining: 79.3ms\n",
            "55:\tlearn: 0.6320207\ttotal: 30.5ms\tremaining: 78.5ms\n",
            "56:\tlearn: 0.6308783\ttotal: 30.9ms\tremaining: 77.6ms\n",
            "57:\tlearn: 0.6303072\ttotal: 31.4ms\tremaining: 76.9ms\n",
            "58:\tlearn: 0.6298837\ttotal: 31.9ms\tremaining: 76.1ms\n",
            "59:\tlearn: 0.6292509\ttotal: 32.3ms\tremaining: 75.3ms\n",
            "60:\tlearn: 0.6286663\ttotal: 32.7ms\tremaining: 74.6ms\n",
            "61:\tlearn: 0.6274543\ttotal: 33.2ms\tremaining: 73.8ms\n",
            "62:\tlearn: 0.6265595\ttotal: 33.6ms\tremaining: 73.1ms\n",
            "63:\tlearn: 0.6255000\ttotal: 34ms\tremaining: 72.3ms\n",
            "64:\tlearn: 0.6250891\ttotal: 34.6ms\tremaining: 71.9ms\n",
            "65:\tlearn: 0.6246211\ttotal: 35ms\tremaining: 71.1ms\n",
            "66:\tlearn: 0.6241638\ttotal: 35.9ms\tremaining: 71.2ms\n",
            "67:\tlearn: 0.6236348\ttotal: 36.5ms\tremaining: 70.9ms\n",
            "68:\tlearn: 0.6232550\ttotal: 37.1ms\tremaining: 70.5ms\n",
            "69:\tlearn: 0.6222979\ttotal: 38.3ms\tremaining: 71.2ms\n",
            "70:\tlearn: 0.6215212\ttotal: 39.4ms\tremaining: 71.5ms\n",
            "71:\tlearn: 0.6204004\ttotal: 40ms\tremaining: 71.1ms\n",
            "72:\tlearn: 0.6190914\ttotal: 40.5ms\tremaining: 70.5ms\n",
            "73:\tlearn: 0.6181799\ttotal: 41ms\tremaining: 69.8ms\n",
            "74:\tlearn: 0.6169983\ttotal: 41.4ms\tremaining: 69.1ms\n",
            "75:\tlearn: 0.6161059\ttotal: 41.8ms\tremaining: 68.2ms\n",
            "76:\tlearn: 0.6151827\ttotal: 42.5ms\tremaining: 67.9ms\n",
            "77:\tlearn: 0.6141850\ttotal: 43ms\tremaining: 67.2ms\n",
            "78:\tlearn: 0.6131047\ttotal: 43.4ms\tremaining: 66.5ms\n",
            "79:\tlearn: 0.6122709\ttotal: 43.9ms\tremaining: 65.9ms\n",
            "80:\tlearn: 0.6121542\ttotal: 44.4ms\tremaining: 65.2ms\n",
            "81:\tlearn: 0.6110818\ttotal: 44.8ms\tremaining: 64.5ms\n",
            "82:\tlearn: 0.6107871\ttotal: 45.3ms\tremaining: 63.8ms\n",
            "83:\tlearn: 0.6105346\ttotal: 45.9ms\tremaining: 63.3ms\n",
            "84:\tlearn: 0.6099801\ttotal: 48.5ms\tremaining: 65.6ms\n",
            "85:\tlearn: 0.6095976\ttotal: 48.7ms\tremaining: 64.6ms\n",
            "86:\tlearn: 0.6089746\ttotal: 49.3ms\tremaining: 64ms\n",
            "87:\tlearn: 0.6084852\ttotal: 49.6ms\tremaining: 63.1ms\n",
            "88:\tlearn: 0.6081225\ttotal: 49.8ms\tremaining: 62.2ms\n",
            "89:\tlearn: 0.6071787\ttotal: 50ms\tremaining: 61.2ms\n",
            "90:\tlearn: 0.6064986\ttotal: 50.2ms\tremaining: 60.2ms\n",
            "91:\tlearn: 0.6058536\ttotal: 50.4ms\tremaining: 59.2ms\n",
            "92:\tlearn: 0.6049588\ttotal: 50.6ms\tremaining: 58.2ms\n",
            "93:\tlearn: 0.6039406\ttotal: 50.8ms\tremaining: 57.3ms\n",
            "94:\tlearn: 0.6037657\ttotal: 51ms\tremaining: 56.4ms\n",
            "95:\tlearn: 0.6033483\ttotal: 51.2ms\tremaining: 55.5ms\n",
            "96:\tlearn: 0.6025399\ttotal: 51.6ms\tremaining: 54.8ms\n",
            "97:\tlearn: 0.6020190\ttotal: 53ms\tremaining: 55.2ms\n",
            "98:\tlearn: 0.6011491\ttotal: 53.4ms\tremaining: 54.4ms\n",
            "99:\tlearn: 0.6009710\ttotal: 56ms\tremaining: 56ms\n",
            "100:\tlearn: 0.6003889\ttotal: 56.3ms\tremaining: 55.2ms\n",
            "101:\tlearn: 0.6000308\ttotal: 56.8ms\tremaining: 54.6ms\n",
            "102:\tlearn: 0.5998012\ttotal: 57.2ms\tremaining: 53.9ms\n",
            "103:\tlearn: 0.5993819\ttotal: 57.5ms\tremaining: 53.1ms\n",
            "104:\tlearn: 0.5990460\ttotal: 57.8ms\tremaining: 52.3ms\n",
            "105:\tlearn: 0.5986731\ttotal: 58ms\tremaining: 51.4ms\n",
            "106:\tlearn: 0.5979961\ttotal: 65.9ms\tremaining: 57.3ms\n",
            "107:\tlearn: 0.5968031\ttotal: 66.7ms\tremaining: 56.8ms\n",
            "108:\tlearn: 0.5960827\ttotal: 68.6ms\tremaining: 57.3ms\n",
            "109:\tlearn: 0.5958477\ttotal: 69.7ms\tremaining: 57ms\n",
            "110:\tlearn: 0.5952167\ttotal: 70.3ms\tremaining: 56.4ms\n",
            "111:\tlearn: 0.5941214\ttotal: 70.8ms\tremaining: 55.6ms\n",
            "112:\tlearn: 0.5938536\ttotal: 71.5ms\tremaining: 55ms\n",
            "113:\tlearn: 0.5936570\ttotal: 75.1ms\tremaining: 56.6ms\n",
            "114:\tlearn: 0.5933231\ttotal: 76.4ms\tremaining: 56.5ms\n",
            "115:\tlearn: 0.5927968\ttotal: 77.4ms\tremaining: 56ms\n",
            "116:\tlearn: 0.5921529\ttotal: 78.2ms\tremaining: 55.5ms\n",
            "117:\tlearn: 0.5918814\ttotal: 78.8ms\tremaining: 54.8ms\n",
            "118:\tlearn: 0.5915820\ttotal: 79.2ms\tremaining: 53.9ms\n",
            "119:\tlearn: 0.5904296\ttotal: 80.4ms\tremaining: 53.6ms\n",
            "120:\tlearn: 0.5900106\ttotal: 81.6ms\tremaining: 53.3ms\n",
            "121:\tlearn: 0.5896641\ttotal: 82.1ms\tremaining: 52.5ms\n",
            "122:\tlearn: 0.5890937\ttotal: 86.6ms\tremaining: 54.2ms\n",
            "123:\tlearn: 0.5889542\ttotal: 87.2ms\tremaining: 53.5ms\n",
            "124:\tlearn: 0.5881839\ttotal: 88.8ms\tremaining: 53.3ms\n",
            "125:\tlearn: 0.5879557\ttotal: 89.5ms\tremaining: 52.5ms\n",
            "126:\tlearn: 0.5876109\ttotal: 92.4ms\tremaining: 53.1ms\n",
            "127:\tlearn: 0.5872690\ttotal: 92.9ms\tremaining: 52.3ms\n",
            "128:\tlearn: 0.5871246\ttotal: 93.4ms\tremaining: 51.4ms\n",
            "129:\tlearn: 0.5869965\ttotal: 101ms\tremaining: 54.5ms\n",
            "130:\tlearn: 0.5867277\ttotal: 102ms\tremaining: 53.6ms\n",
            "131:\tlearn: 0.5863100\ttotal: 104ms\tremaining: 53.7ms\n",
            "132:\tlearn: 0.5854020\ttotal: 105ms\tremaining: 52.8ms\n",
            "133:\tlearn: 0.5846174\ttotal: 107ms\tremaining: 52.5ms\n",
            "134:\tlearn: 0.5844327\ttotal: 107ms\tremaining: 51.5ms\n",
            "135:\tlearn: 0.5837038\ttotal: 107ms\tremaining: 50.5ms\n",
            "136:\tlearn: 0.5833808\ttotal: 108ms\tremaining: 49.5ms\n",
            "137:\tlearn: 0.5831556\ttotal: 110ms\tremaining: 49.4ms\n",
            "138:\tlearn: 0.5830169\ttotal: 112ms\tremaining: 49.3ms\n",
            "139:\tlearn: 0.5822884\ttotal: 114ms\tremaining: 48.8ms\n",
            "140:\tlearn: 0.5817965\ttotal: 115ms\tremaining: 47.9ms\n",
            "141:\tlearn: 0.5813617\ttotal: 115ms\tremaining: 47.1ms\n",
            "142:\tlearn: 0.5808669\ttotal: 116ms\tremaining: 46.2ms\n",
            "143:\tlearn: 0.5807237\ttotal: 117ms\tremaining: 45.5ms\n",
            "144:\tlearn: 0.5806002\ttotal: 118ms\tremaining: 44.7ms\n",
            "145:\tlearn: 0.5801509\ttotal: 120ms\tremaining: 44.2ms\n",
            "146:\tlearn: 0.5798454\ttotal: 121ms\tremaining: 43.6ms\n",
            "147:\tlearn: 0.5797178\ttotal: 122ms\tremaining: 42.8ms\n",
            "148:\tlearn: 0.5794124\ttotal: 122ms\tremaining: 41.9ms\n",
            "149:\tlearn: 0.5789469\ttotal: 124ms\tremaining: 41.2ms\n",
            "150:\tlearn: 0.5788395\ttotal: 124ms\tremaining: 40.2ms\n",
            "151:\tlearn: 0.5777729\ttotal: 125ms\tremaining: 39.4ms\n",
            "152:\tlearn: 0.5772152\ttotal: 125ms\tremaining: 38.5ms\n",
            "153:\tlearn: 0.5768113\ttotal: 126ms\tremaining: 37.6ms\n",
            "154:\tlearn: 0.5764598\ttotal: 126ms\tremaining: 36.7ms\n",
            "155:\tlearn: 0.5760145\ttotal: 127ms\tremaining: 35.8ms\n",
            "156:\tlearn: 0.5759340\ttotal: 128ms\tremaining: 34.9ms\n",
            "157:\tlearn: 0.5756457\ttotal: 129ms\tremaining: 34.2ms\n",
            "158:\tlearn: 0.5747064\ttotal: 130ms\tremaining: 33.4ms\n",
            "159:\tlearn: 0.5743693\ttotal: 130ms\tremaining: 32.5ms\n",
            "160:\tlearn: 0.5738292\ttotal: 131ms\tremaining: 31.6ms\n",
            "161:\tlearn: 0.5735984\ttotal: 132ms\tremaining: 30.9ms\n",
            "162:\tlearn: 0.5732242\ttotal: 134ms\tremaining: 30.4ms\n",
            "163:\tlearn: 0.5730021\ttotal: 136ms\tremaining: 29.8ms\n",
            "164:\tlearn: 0.5724254\ttotal: 139ms\tremaining: 29.4ms\n",
            "165:\tlearn: 0.5720538\ttotal: 139ms\tremaining: 28.5ms\n",
            "166:\tlearn: 0.5716344\ttotal: 140ms\tremaining: 27.7ms\n",
            "167:\tlearn: 0.5712741\ttotal: 141ms\tremaining: 26.8ms\n",
            "168:\tlearn: 0.5708211\ttotal: 143ms\tremaining: 26.2ms\n",
            "169:\tlearn: 0.5707770\ttotal: 144ms\tremaining: 25.5ms\n",
            "170:\tlearn: 0.5701739\ttotal: 150ms\tremaining: 25.4ms\n",
            "171:\tlearn: 0.5700765\ttotal: 151ms\tremaining: 24.5ms\n",
            "172:\tlearn: 0.5698176\ttotal: 151ms\tremaining: 23.6ms\n",
            "173:\tlearn: 0.5695852\ttotal: 152ms\tremaining: 22.7ms\n",
            "174:\tlearn: 0.5693283\ttotal: 153ms\tremaining: 21.9ms\n",
            "175:\tlearn: 0.5689709\ttotal: 154ms\tremaining: 21ms\n",
            "176:\tlearn: 0.5683869\ttotal: 157ms\tremaining: 20.4ms\n",
            "177:\tlearn: 0.5682450\ttotal: 158ms\tremaining: 19.5ms\n",
            "178:\tlearn: 0.5680681\ttotal: 159ms\tremaining: 18.6ms\n",
            "179:\tlearn: 0.5676479\ttotal: 159ms\tremaining: 17.7ms\n",
            "180:\tlearn: 0.5670211\ttotal: 160ms\tremaining: 16.8ms\n",
            "181:\tlearn: 0.5666694\ttotal: 160ms\tremaining: 15.8ms\n",
            "182:\tlearn: 0.5663432\ttotal: 160ms\tremaining: 14.9ms\n",
            "183:\tlearn: 0.5657350\ttotal: 160ms\tremaining: 13.9ms\n",
            "184:\tlearn: 0.5654606\ttotal: 160ms\tremaining: 13ms\n",
            "185:\tlearn: 0.5651186\ttotal: 162ms\tremaining: 12.2ms\n",
            "186:\tlearn: 0.5649464\ttotal: 163ms\tremaining: 11.3ms\n",
            "187:\tlearn: 0.5647353\ttotal: 164ms\tremaining: 10.4ms\n",
            "188:\tlearn: 0.5644584\ttotal: 164ms\tremaining: 9.56ms\n",
            "189:\tlearn: 0.5642444\ttotal: 165ms\tremaining: 8.68ms\n",
            "190:\tlearn: 0.5637890\ttotal: 166ms\tremaining: 7.83ms\n",
            "191:\tlearn: 0.5633787\ttotal: 166ms\tremaining: 6.93ms\n",
            "192:\tlearn: 0.5631481\ttotal: 168ms\tremaining: 6.09ms\n",
            "193:\tlearn: 0.5626729\ttotal: 169ms\tremaining: 5.21ms\n",
            "194:\tlearn: 0.5622217\ttotal: 169ms\tremaining: 4.33ms\n",
            "195:\tlearn: 0.5620198\ttotal: 170ms\tremaining: 3.47ms\n",
            "196:\tlearn: 0.5615988\ttotal: 171ms\tremaining: 2.6ms\n",
            "197:\tlearn: 0.5611251\ttotal: 172ms\tremaining: 1.73ms\n",
            "198:\tlearn: 0.5609151\ttotal: 172ms\tremaining: 864us\n",
            "199:\tlearn: 0.5604971\ttotal: 173ms\tremaining: 0us\n"
          ]
        }
      ]
    },
    {
      "cell_type": "code",
      "metadata": {
        "id": "EqA9tMOa-0Y5",
        "colab": {
          "base_uri": "https://localhost:8080/"
        },
        "outputId": "08699d82-76c2-49e4-f8e3-f5f024617c04"
      },
      "source": [
        "y_pred = catb_tuned.predict(X_test)\n",
        "accuracy_score(y_test, y_pred)"
      ],
      "execution_count": null,
      "outputs": [
        {
          "output_type": "execute_result",
          "data": {
            "text/plain": [
              "0.5263157894736842"
            ]
          },
          "metadata": {},
          "execution_count": 624
        }
      ]
    },
    {
      "cell_type": "markdown",
      "metadata": {
        "id": "DHisRNyVod7z"
      },
      "source": [
        "# **BAGGING**"
      ]
    },
    {
      "cell_type": "markdown",
      "metadata": {
        "id": "mMud3RTaoh6K"
      },
      "source": [
        "**Grid Search**"
      ]
    },
    {
      "cell_type": "code",
      "metadata": {
        "id": "6IU6A4q3ophG"
      },
      "source": [
        "from sklearn.ensemble import BaggingClassifier"
      ],
      "execution_count": null,
      "outputs": []
    },
    {
      "cell_type": "code",
      "metadata": {
        "id": "e4NSWWFho1UX"
      },
      "source": [
        "y = df[\"Y\"]\n",
        "X = df.drop([\"Y\"], axis=1)\n",
        "X_train, X_test, y_train, y_test = train_test_split(X, y, \n",
        "                                                    test_size=0.15, \n",
        "                                                    random_state=42)"
      ],
      "execution_count": null,
      "outputs": []
    },
    {
      "cell_type": "code",
      "metadata": {
        "colab": {
          "base_uri": "https://localhost:8080/"
        },
        "id": "MmYs9Gw8oc94",
        "outputId": "aca33468-5db8-40d0-80a9-110bda5e3b74"
      },
      "source": [
        "param_grid = {\n",
        "    'max_samples': [1, 2, 3],\n",
        "    'max_features':[1, 2, 3, 4],\n",
        "    'n_estimators': [50, 100, 150, 200]\n",
        "}\n",
        "\n",
        "\n",
        "grid_search = GridSearchCV(estimator = BaggingClassifier(), param_grid = param_grid, cv = 5)\n",
        "\n",
        "grid_search.fit(X_train, y_train)\n",
        "grid_search.best_params_"
      ],
      "execution_count": null,
      "outputs": [
        {
          "output_type": "execute_result",
          "data": {
            "text/plain": [
              "{'max_features': 2, 'max_samples': 3, 'n_estimators': 100}"
            ]
          },
          "metadata": {},
          "execution_count": 627
        }
      ]
    },
    {
      "cell_type": "code",
      "metadata": {
        "colab": {
          "base_uri": "https://localhost:8080/"
        },
        "id": "uOVUQR45pNLo",
        "outputId": "25d8d40f-9241-4206-de58-1184c87d27af"
      },
      "source": [
        "best_grid = grid_search.best_estimator_\n",
        "\n",
        "print(\"Bagging's Accuracy: \", best_grid.score(X_test, y_test))"
      ],
      "execution_count": null,
      "outputs": [
        {
          "output_type": "stream",
          "name": "stdout",
          "text": [
            "Bagging's Accuracy:  0.47368421052631576\n"
          ]
        }
      ]
    },
    {
      "cell_type": "markdown",
      "metadata": {
        "id": "x21HrDlRZ3XP"
      },
      "source": [
        "# **Tüm Modellerin Karşılaştırılması**"
      ]
    },
    {
      "cell_type": "code",
      "metadata": {
        "id": "qAN_z2_X-0Y5",
        "colab": {
          "base_uri": "https://localhost:8080/"
        },
        "outputId": "e52647e7-fa41-43f4-b0a2-de7940dc7f89"
      },
      "source": [
        "modeller = [\n",
        "    knn_tuned,\n",
        "    loj_model,\n",
        "    svc_tuned,\n",
        "    nb_model,\n",
        "    mlpc_tuned,\n",
        "    cart_tuned,\n",
        "    rf_tuned,\n",
        "    gbm_tuned,\n",
        "    catb_tuned,\n",
        "    lgbm_tuned,\n",
        "    xgb_tuned,\n",
        "    best_grid\n",
        "    \n",
        "]\n",
        "\n",
        "\n",
        "for model in modeller:\n",
        "    isimler = model.__class__.__name__\n",
        "    y_pred = model.predict(X_test)\n",
        "    dogruluk = accuracy_score(y_test, y_pred)\n",
        "    print(\"-\"*28)\n",
        "    print(isimler + \":\" )\n",
        "    print(\"Accuracy: {:.4%}\".format(dogruluk))"
      ],
      "execution_count": null,
      "outputs": [
        {
          "output_type": "stream",
          "name": "stdout",
          "text": [
            "----------------------------\n",
            "KNeighborsClassifier:\n",
            "Accuracy: 52.6316%\n",
            "----------------------------\n",
            "LogisticRegression:\n",
            "Accuracy: 42.1053%\n",
            "----------------------------\n",
            "SVC:\n",
            "Accuracy: 47.3684%\n",
            "----------------------------\n",
            "GaussianNB:\n",
            "Accuracy: 42.1053%\n",
            "----------------------------\n",
            "MLPClassifier:\n",
            "Accuracy: 47.3684%\n",
            "----------------------------\n",
            "DecisionTreeClassifier:\n",
            "Accuracy: 57.8947%\n",
            "----------------------------\n",
            "RandomForestClassifier:\n",
            "Accuracy: 68.4211%\n",
            "----------------------------\n",
            "GradientBoostingClassifier:\n",
            "Accuracy: 78.9474%\n",
            "----------------------------\n",
            "CatBoostClassifier:\n",
            "Accuracy: 52.6316%\n",
            "----------------------------\n",
            "LGBMClassifier:\n",
            "Accuracy: 78.9474%\n",
            "----------------------------\n",
            "XGBClassifier:\n",
            "Accuracy: 73.6842%\n",
            "----------------------------\n",
            "BaggingClassifier:\n",
            "Accuracy: 47.3684%\n"
          ]
        }
      ]
    },
    {
      "cell_type": "code",
      "metadata": {
        "id": "W5XbMcy5-0Y6",
        "colab": {
          "base_uri": "https://localhost:8080/",
          "height": 295
        },
        "outputId": "a691d8f2-00da-47d9-b9a1-524574fbca01"
      },
      "source": [
        "sonuc = []\n",
        "\n",
        "sonuclar = pd.DataFrame(columns= [\"Modeller\",\"Accuracy\"])\n",
        "\n",
        "for model in modeller:\n",
        "    isimler = model.__class__.__name__\n",
        "    y_pred = model.predict(X_test)\n",
        "    dogruluk = accuracy_score(y_test, y_pred)    \n",
        "    sonuc = pd.DataFrame([[isimler, dogruluk*100]], columns= [\"Modeller\",\"Accuracy\"])\n",
        "    sonuclar = sonuclar.append(sonuc)\n",
        "    \n",
        "    \n",
        "sns.barplot(x= 'Accuracy', y = 'Modeller', data=sonuclar, color=\"r\")\n",
        "plt.xlabel('Accuracy %')\n",
        "plt.title('Modellerin Doğruluk Oranları');    "
      ],
      "execution_count": null,
      "outputs": [
        {
          "output_type": "display_data",
          "data": {
            "image/png": "[encoded data removed]",
            "text/plain": [
              "<Figure size 432x288 with 1 Axes>"
            ]
          },
          "metadata": {
            "needs_background": "light"
          }
        }
      ]
    }
  ]
}